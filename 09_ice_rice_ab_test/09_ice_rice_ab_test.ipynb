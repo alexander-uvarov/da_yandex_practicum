{
 "cells": [
  {
   "cell_type": "markdown",
   "metadata": {},
   "source": [
    "- Проверка 9-ти гипотез по увеличению выручки интернет-магазина по параметрам ICE и RICE\n",
    "- Проверка результатов А/В-теста"
   ]
  },
  {
   "cell_type": "code",
   "execution_count": 1,
   "metadata": {},
   "outputs": [],
   "source": [
    "import pandas as pd\n",
    "pd.options.display.max_colwidth = 150\n",
    "import datetime as dt\n",
    "import numpy as np\n",
    "import matplotlib.pyplot as plt\n",
    "plt.rcParams[\"figure.figsize\"] = (15,10)\n",
    "import scipy.stats as stats"
   ]
  },
  {
   "cell_type": "markdown",
   "metadata": {},
   "source": [
    "# Часть 1. Приоритизация гипотез"
   ]
  },
  {
   "cell_type": "markdown",
   "metadata": {},
   "source": [
    "Как уже было сказано, гипотезы будем приоритизировать параметрами ICE и RICE, отличаются они учетом охвата аудитории - в ICE охват не учитывается, в RICE учитывается. Так как в дальнейшем исследовании нас больше будет волновать результат всей выборки, а не отдельной группы пользователей, то большее значение мы придадим параметру RICE, но лидирующие гипотезы по параметру ICE тоже примем во внимание."
   ]
  },
  {
   "cell_type": "code",
   "execution_count": 2,
   "metadata": {},
   "outputs": [
    {
     "data": {
      "text/html": [
       "<div>\n",
       "<style scoped>\n",
       "    .dataframe tbody tr th:only-of-type {\n",
       "        vertical-align: middle;\n",
       "    }\n",
       "\n",
       "    .dataframe tbody tr th {\n",
       "        vertical-align: top;\n",
       "    }\n",
       "\n",
       "    .dataframe thead th {\n",
       "        text-align: right;\n",
       "    }\n",
       "</style>\n",
       "<table border=\"1\" class=\"dataframe\">\n",
       "  <thead>\n",
       "    <tr style=\"text-align: right;\">\n",
       "      <th></th>\n",
       "      <th>Hypothesis</th>\n",
       "      <th>Reach</th>\n",
       "      <th>Impact</th>\n",
       "      <th>Confidence</th>\n",
       "      <th>Efforts</th>\n",
       "    </tr>\n",
       "  </thead>\n",
       "  <tbody>\n",
       "    <tr>\n",
       "      <th>0</th>\n",
       "      <td>Добавить два новых канала привлечения трафика, что позволит привлекать на 30% больше пользователей</td>\n",
       "      <td>3</td>\n",
       "      <td>10</td>\n",
       "      <td>8</td>\n",
       "      <td>6</td>\n",
       "    </tr>\n",
       "    <tr>\n",
       "      <th>1</th>\n",
       "      <td>Запустить собственную службу доставки, что сократит срок доставки заказов</td>\n",
       "      <td>2</td>\n",
       "      <td>5</td>\n",
       "      <td>4</td>\n",
       "      <td>10</td>\n",
       "    </tr>\n",
       "    <tr>\n",
       "      <th>2</th>\n",
       "      <td>Добавить блоки рекомендаций товаров на сайт интернет магазина, чтобы повысить конверсию и средний чек заказа</td>\n",
       "      <td>8</td>\n",
       "      <td>3</td>\n",
       "      <td>7</td>\n",
       "      <td>3</td>\n",
       "    </tr>\n",
       "    <tr>\n",
       "      <th>3</th>\n",
       "      <td>Изменить структура категорий, что увеличит конверсию, т.к. пользователи быстрее найдут нужный товар</td>\n",
       "      <td>8</td>\n",
       "      <td>3</td>\n",
       "      <td>3</td>\n",
       "      <td>8</td>\n",
       "    </tr>\n",
       "    <tr>\n",
       "      <th>4</th>\n",
       "      <td>Изменить цвет фона главной страницы, чтобы увеличить вовлеченность пользователей</td>\n",
       "      <td>3</td>\n",
       "      <td>1</td>\n",
       "      <td>1</td>\n",
       "      <td>1</td>\n",
       "    </tr>\n",
       "    <tr>\n",
       "      <th>5</th>\n",
       "      <td>Добавить страницу отзывов клиентов о магазине, что позволит увеличить количество заказов</td>\n",
       "      <td>3</td>\n",
       "      <td>2</td>\n",
       "      <td>2</td>\n",
       "      <td>3</td>\n",
       "    </tr>\n",
       "    <tr>\n",
       "      <th>6</th>\n",
       "      <td>Показать на главной странице баннеры с актуальными акциями и распродажами, чтобы увеличить конверсию</td>\n",
       "      <td>5</td>\n",
       "      <td>3</td>\n",
       "      <td>8</td>\n",
       "      <td>3</td>\n",
       "    </tr>\n",
       "    <tr>\n",
       "      <th>7</th>\n",
       "      <td>Добавить форму подписки на все основные страницы, чтобы собрать базу клиентов для email-рассылок</td>\n",
       "      <td>10</td>\n",
       "      <td>7</td>\n",
       "      <td>8</td>\n",
       "      <td>5</td>\n",
       "    </tr>\n",
       "    <tr>\n",
       "      <th>8</th>\n",
       "      <td>Запустить акцию, дающую скидку на товар в день рождения</td>\n",
       "      <td>1</td>\n",
       "      <td>9</td>\n",
       "      <td>9</td>\n",
       "      <td>5</td>\n",
       "    </tr>\n",
       "  </tbody>\n",
       "</table>\n",
       "</div>"
      ],
      "text/plain": [
       "                                                                                                     Hypothesis  \\\n",
       "0            Добавить два новых канала привлечения трафика, что позволит привлекать на 30% больше пользователей   \n",
       "1                                     Запустить собственную службу доставки, что сократит срок доставки заказов   \n",
       "2  Добавить блоки рекомендаций товаров на сайт интернет магазина, чтобы повысить конверсию и средний чек заказа   \n",
       "3           Изменить структура категорий, что увеличит конверсию, т.к. пользователи быстрее найдут нужный товар   \n",
       "4                              Изменить цвет фона главной страницы, чтобы увеличить вовлеченность пользователей   \n",
       "5                      Добавить страницу отзывов клиентов о магазине, что позволит увеличить количество заказов   \n",
       "6          Показать на главной странице баннеры с актуальными акциями и распродажами, чтобы увеличить конверсию   \n",
       "7              Добавить форму подписки на все основные страницы, чтобы собрать базу клиентов для email-рассылок   \n",
       "8                                                       Запустить акцию, дающую скидку на товар в день рождения   \n",
       "\n",
       "   Reach  Impact  Confidence  Efforts  \n",
       "0      3      10           8        6  \n",
       "1      2       5           4       10  \n",
       "2      8       3           7        3  \n",
       "3      8       3           3        8  \n",
       "4      3       1           1        1  \n",
       "5      3       2           2        3  \n",
       "6      5       3           8        3  \n",
       "7     10       7           8        5  \n",
       "8      1       9           9        5  "
      ]
     },
     "metadata": {},
     "output_type": "display_data"
    }
   ],
   "source": [
    "hypothesis = pd.read_csv('/datasets/hypothesis.csv', sep=',')\n",
    "#hypothesis.info()\n",
    "display(hypothesis)"
   ]
  },
  {
   "cell_type": "markdown",
   "metadata": {},
   "source": [
    "Приоритизируем гипотезы с помощью параметра ICE:"
   ]
  },
  {
   "cell_type": "code",
   "execution_count": 3,
   "metadata": {},
   "outputs": [
    {
     "data": {
      "text/html": [
       "<div>\n",
       "<style scoped>\n",
       "    .dataframe tbody tr th:only-of-type {\n",
       "        vertical-align: middle;\n",
       "    }\n",
       "\n",
       "    .dataframe tbody tr th {\n",
       "        vertical-align: top;\n",
       "    }\n",
       "\n",
       "    .dataframe thead th {\n",
       "        text-align: right;\n",
       "    }\n",
       "</style>\n",
       "<table border=\"1\" class=\"dataframe\">\n",
       "  <thead>\n",
       "    <tr style=\"text-align: right;\">\n",
       "      <th></th>\n",
       "      <th>Hypothesis</th>\n",
       "      <th>ICE</th>\n",
       "    </tr>\n",
       "  </thead>\n",
       "  <tbody>\n",
       "    <tr>\n",
       "      <th>8</th>\n",
       "      <td>Запустить акцию, дающую скидку на товар в день рождения</td>\n",
       "      <td>16.20</td>\n",
       "    </tr>\n",
       "    <tr>\n",
       "      <th>0</th>\n",
       "      <td>Добавить два новых канала привлечения трафика, что позволит привлекать на 30% больше пользователей</td>\n",
       "      <td>13.33</td>\n",
       "    </tr>\n",
       "    <tr>\n",
       "      <th>7</th>\n",
       "      <td>Добавить форму подписки на все основные страницы, чтобы собрать базу клиентов для email-рассылок</td>\n",
       "      <td>11.20</td>\n",
       "    </tr>\n",
       "    <tr>\n",
       "      <th>6</th>\n",
       "      <td>Показать на главной странице баннеры с актуальными акциями и распродажами, чтобы увеличить конверсию</td>\n",
       "      <td>8.00</td>\n",
       "    </tr>\n",
       "    <tr>\n",
       "      <th>2</th>\n",
       "      <td>Добавить блоки рекомендаций товаров на сайт интернет магазина, чтобы повысить конверсию и средний чек заказа</td>\n",
       "      <td>7.00</td>\n",
       "    </tr>\n",
       "    <tr>\n",
       "      <th>1</th>\n",
       "      <td>Запустить собственную службу доставки, что сократит срок доставки заказов</td>\n",
       "      <td>2.00</td>\n",
       "    </tr>\n",
       "    <tr>\n",
       "      <th>5</th>\n",
       "      <td>Добавить страницу отзывов клиентов о магазине, что позволит увеличить количество заказов</td>\n",
       "      <td>1.33</td>\n",
       "    </tr>\n",
       "    <tr>\n",
       "      <th>3</th>\n",
       "      <td>Изменить структура категорий, что увеличит конверсию, т.к. пользователи быстрее найдут нужный товар</td>\n",
       "      <td>1.12</td>\n",
       "    </tr>\n",
       "    <tr>\n",
       "      <th>4</th>\n",
       "      <td>Изменить цвет фона главной страницы, чтобы увеличить вовлеченность пользователей</td>\n",
       "      <td>1.00</td>\n",
       "    </tr>\n",
       "  </tbody>\n",
       "</table>\n",
       "</div>"
      ],
      "text/plain": [
       "                                                                                                     Hypothesis  \\\n",
       "8                                                       Запустить акцию, дающую скидку на товар в день рождения   \n",
       "0            Добавить два новых канала привлечения трафика, что позволит привлекать на 30% больше пользователей   \n",
       "7              Добавить форму подписки на все основные страницы, чтобы собрать базу клиентов для email-рассылок   \n",
       "6          Показать на главной странице баннеры с актуальными акциями и распродажами, чтобы увеличить конверсию   \n",
       "2  Добавить блоки рекомендаций товаров на сайт интернет магазина, чтобы повысить конверсию и средний чек заказа   \n",
       "1                                     Запустить собственную службу доставки, что сократит срок доставки заказов   \n",
       "5                      Добавить страницу отзывов клиентов о магазине, что позволит увеличить количество заказов   \n",
       "3           Изменить структура категорий, что увеличит конверсию, т.к. пользователи быстрее найдут нужный товар   \n",
       "4                              Изменить цвет фона главной страницы, чтобы увеличить вовлеченность пользователей   \n",
       "\n",
       "     ICE  \n",
       "8  16.20  \n",
       "0  13.33  \n",
       "7  11.20  \n",
       "6   8.00  \n",
       "2   7.00  \n",
       "1   2.00  \n",
       "5   1.33  \n",
       "3   1.12  \n",
       "4   1.00  "
      ]
     },
     "metadata": {},
     "output_type": "display_data"
    }
   ],
   "source": [
    "hypothesis['ICE'] = (hypothesis['Impact'] * hypothesis['Confidence'] / hypothesis['Efforts']).round(2)\n",
    "ice = hypothesis[['Hypothesis', 'ICE']].sort_values(by='ICE', ascending=False)\n",
    "display(ice)"
   ]
  },
  {
   "cell_type": "code",
   "execution_count": 4,
   "metadata": {},
   "outputs": [
    {
     "name": "stdout",
     "output_type": "stream",
     "text": [
      "Лучшая гипотеза по параметру ICE:\n",
      "Запустить акцию, дающую скидку на товар в день рождения\n"
     ]
    }
   ],
   "source": [
    "print('Лучшая гипотеза по параметру ICE:')\n",
    "print(ice.loc[8, 'Hypothesis'])"
   ]
  },
  {
   "cell_type": "markdown",
   "metadata": {},
   "source": [
    "Приоритизируем гипотезы с помощтью параметра RICE:"
   ]
  },
  {
   "cell_type": "code",
   "execution_count": 5,
   "metadata": {},
   "outputs": [
    {
     "data": {
      "text/html": [
       "<div>\n",
       "<style scoped>\n",
       "    .dataframe tbody tr th:only-of-type {\n",
       "        vertical-align: middle;\n",
       "    }\n",
       "\n",
       "    .dataframe tbody tr th {\n",
       "        vertical-align: top;\n",
       "    }\n",
       "\n",
       "    .dataframe thead th {\n",
       "        text-align: right;\n",
       "    }\n",
       "</style>\n",
       "<table border=\"1\" class=\"dataframe\">\n",
       "  <thead>\n",
       "    <tr style=\"text-align: right;\">\n",
       "      <th></th>\n",
       "      <th>Hypothesis</th>\n",
       "      <th>RICE</th>\n",
       "    </tr>\n",
       "  </thead>\n",
       "  <tbody>\n",
       "    <tr>\n",
       "      <th>7</th>\n",
       "      <td>Добавить форму подписки на все основные страницы, чтобы собрать базу клиентов для email-рассылок</td>\n",
       "      <td>112.0</td>\n",
       "    </tr>\n",
       "    <tr>\n",
       "      <th>2</th>\n",
       "      <td>Добавить блоки рекомендаций товаров на сайт интернет магазина, чтобы повысить конверсию и средний чек заказа</td>\n",
       "      <td>56.0</td>\n",
       "    </tr>\n",
       "    <tr>\n",
       "      <th>0</th>\n",
       "      <td>Добавить два новых канала привлечения трафика, что позволит привлекать на 30% больше пользователей</td>\n",
       "      <td>40.0</td>\n",
       "    </tr>\n",
       "    <tr>\n",
       "      <th>6</th>\n",
       "      <td>Показать на главной странице баннеры с актуальными акциями и распродажами, чтобы увеличить конверсию</td>\n",
       "      <td>40.0</td>\n",
       "    </tr>\n",
       "    <tr>\n",
       "      <th>8</th>\n",
       "      <td>Запустить акцию, дающую скидку на товар в день рождения</td>\n",
       "      <td>16.2</td>\n",
       "    </tr>\n",
       "    <tr>\n",
       "      <th>3</th>\n",
       "      <td>Изменить структура категорий, что увеличит конверсию, т.к. пользователи быстрее найдут нужный товар</td>\n",
       "      <td>9.0</td>\n",
       "    </tr>\n",
       "    <tr>\n",
       "      <th>1</th>\n",
       "      <td>Запустить собственную службу доставки, что сократит срок доставки заказов</td>\n",
       "      <td>4.0</td>\n",
       "    </tr>\n",
       "    <tr>\n",
       "      <th>5</th>\n",
       "      <td>Добавить страницу отзывов клиентов о магазине, что позволит увеличить количество заказов</td>\n",
       "      <td>4.0</td>\n",
       "    </tr>\n",
       "    <tr>\n",
       "      <th>4</th>\n",
       "      <td>Изменить цвет фона главной страницы, чтобы увеличить вовлеченность пользователей</td>\n",
       "      <td>3.0</td>\n",
       "    </tr>\n",
       "  </tbody>\n",
       "</table>\n",
       "</div>"
      ],
      "text/plain": [
       "                                                                                                     Hypothesis  \\\n",
       "7              Добавить форму подписки на все основные страницы, чтобы собрать базу клиентов для email-рассылок   \n",
       "2  Добавить блоки рекомендаций товаров на сайт интернет магазина, чтобы повысить конверсию и средний чек заказа   \n",
       "0            Добавить два новых канала привлечения трафика, что позволит привлекать на 30% больше пользователей   \n",
       "6          Показать на главной странице баннеры с актуальными акциями и распродажами, чтобы увеличить конверсию   \n",
       "8                                                       Запустить акцию, дающую скидку на товар в день рождения   \n",
       "3           Изменить структура категорий, что увеличит конверсию, т.к. пользователи быстрее найдут нужный товар   \n",
       "1                                     Запустить собственную службу доставки, что сократит срок доставки заказов   \n",
       "5                      Добавить страницу отзывов клиентов о магазине, что позволит увеличить количество заказов   \n",
       "4                              Изменить цвет фона главной страницы, чтобы увеличить вовлеченность пользователей   \n",
       "\n",
       "    RICE  \n",
       "7  112.0  \n",
       "2   56.0  \n",
       "0   40.0  \n",
       "6   40.0  \n",
       "8   16.2  \n",
       "3    9.0  \n",
       "1    4.0  \n",
       "5    4.0  \n",
       "4    3.0  "
      ]
     },
     "metadata": {},
     "output_type": "display_data"
    }
   ],
   "source": [
    "hypothesis['RICE'] = hypothesis['Reach'] * hypothesis['Impact'] * hypothesis['Confidence'] / hypothesis['Efforts']\n",
    "rice = hypothesis[['Hypothesis', 'RICE']].sort_values(by='RICE', ascending=False)\n",
    "display(rice)"
   ]
  },
  {
   "cell_type": "code",
   "execution_count": 6,
   "metadata": {},
   "outputs": [
    {
     "name": "stdout",
     "output_type": "stream",
     "text": [
      "Лучшая гипотеза по параметру RICE:\n",
      "Добавить форму подписки на все основные страницы, чтобы собрать базу клиентов для email-рассылок\n"
     ]
    }
   ],
   "source": [
    "print('Лучшая гипотеза по параметру RICE:')\n",
    "print(rice.loc[7, 'Hypothesis'])"
   ]
  },
  {
   "cell_type": "markdown",
   "metadata": {},
   "source": [
    "Восьмая гипотеза с максимальным ICE по параметру RICE находится на 4-м месте, а седьмая гипотеза с максимальным RICE - на 3-м месте по параметру ICE. Удивительного в этом ничего нет, т.к. скидку в день рождения мы предложим на этой неделе только 2% пользователей, а подписаться на e-mail рассылку - всем."
   ]
  },
  {
   "cell_type": "markdown",
   "metadata": {},
   "source": [
    "Рекомендуется уделить внимание гипотезам: 7, 2, 0, 6, 8 - эти пять гипотез являются лидерами и по ICE и по RICE, начать следует с 7 гипотезы, ее влияние на бизнес будет иметь отложенный и накопительный эффект, и для ее проверки потребуется больше времени"
   ]
  },
  {
   "cell_type": "markdown",
   "metadata": {},
   "source": [
    "По одной из гипотез готовы результаты А/В теста. Требуется провести анализ результатов."
   ]
  },
  {
   "cell_type": "markdown",
   "metadata": {},
   "source": [
    "# Часть 2. Анализ А/В-теста"
   ]
  },
  {
   "cell_type": "markdown",
   "metadata": {},
   "source": [
    "Итак, у нас есть датафреймы с информацией о заказах и посещениях магазина с разбивкой на две группы - с исследуемым изменением и без него. Проверим качество данных - пропуски, дубликаты, продолжительность теста, сбалансированность групп по количеству покупателей."
   ]
  },
  {
   "cell_type": "code",
   "execution_count": 7,
   "metadata": {},
   "outputs": [],
   "source": [
    "# загрузим дата-сеты и преобразуем даты\n",
    "orders = pd.read_csv('/datasets/orders.csv', sep=',')\n",
    "visitors = pd.read_csv('/datasets/visitors.csv', sep=',')\n",
    "\n",
    "orders['date'] = orders['date'].map(lambda x: dt.datetime.strptime(x, '%Y-%m-%d'))\n",
    "visitors['date'] = visitors['date'].map(lambda x: dt.datetime.strptime(x, '%Y-%m-%d'))"
   ]
  },
  {
   "cell_type": "code",
   "execution_count": 8,
   "metadata": {},
   "outputs": [
    {
     "name": "stdout",
     "output_type": "stream",
     "text": [
      "<class 'pandas.core.frame.DataFrame'>\n",
      "RangeIndex: 1197 entries, 0 to 1196\n",
      "Data columns (total 5 columns):\n",
      " #   Column         Non-Null Count  Dtype         \n",
      "---  ------         --------------  -----         \n",
      " 0   transactionId  1197 non-null   int64         \n",
      " 1   visitorId      1197 non-null   int64         \n",
      " 2   date           1197 non-null   datetime64[ns]\n",
      " 3   revenue        1197 non-null   int64         \n",
      " 4   group          1197 non-null   object        \n",
      "dtypes: datetime64[ns](1), int64(3), object(1)\n",
      "memory usage: 46.9+ KB\n"
     ]
    },
    {
     "data": {
      "text/html": [
       "<div>\n",
       "<style scoped>\n",
       "    .dataframe tbody tr th:only-of-type {\n",
       "        vertical-align: middle;\n",
       "    }\n",
       "\n",
       "    .dataframe tbody tr th {\n",
       "        vertical-align: top;\n",
       "    }\n",
       "\n",
       "    .dataframe thead th {\n",
       "        text-align: right;\n",
       "    }\n",
       "</style>\n",
       "<table border=\"1\" class=\"dataframe\">\n",
       "  <thead>\n",
       "    <tr style=\"text-align: right;\">\n",
       "      <th></th>\n",
       "      <th>transactionId</th>\n",
       "      <th>visitorId</th>\n",
       "      <th>date</th>\n",
       "      <th>revenue</th>\n",
       "      <th>group</th>\n",
       "    </tr>\n",
       "  </thead>\n",
       "  <tbody>\n",
       "    <tr>\n",
       "      <th>0</th>\n",
       "      <td>3667963787</td>\n",
       "      <td>3312258926</td>\n",
       "      <td>2019-08-15</td>\n",
       "      <td>1650</td>\n",
       "      <td>B</td>\n",
       "    </tr>\n",
       "    <tr>\n",
       "      <th>1</th>\n",
       "      <td>2804400009</td>\n",
       "      <td>3642806036</td>\n",
       "      <td>2019-08-15</td>\n",
       "      <td>730</td>\n",
       "      <td>B</td>\n",
       "    </tr>\n",
       "    <tr>\n",
       "      <th>2</th>\n",
       "      <td>2961555356</td>\n",
       "      <td>4069496402</td>\n",
       "      <td>2019-08-15</td>\n",
       "      <td>400</td>\n",
       "      <td>A</td>\n",
       "    </tr>\n",
       "    <tr>\n",
       "      <th>3</th>\n",
       "      <td>3797467345</td>\n",
       "      <td>1196621759</td>\n",
       "      <td>2019-08-15</td>\n",
       "      <td>9759</td>\n",
       "      <td>B</td>\n",
       "    </tr>\n",
       "    <tr>\n",
       "      <th>4</th>\n",
       "      <td>2282983706</td>\n",
       "      <td>2322279887</td>\n",
       "      <td>2019-08-15</td>\n",
       "      <td>2308</td>\n",
       "      <td>B</td>\n",
       "    </tr>\n",
       "  </tbody>\n",
       "</table>\n",
       "</div>"
      ],
      "text/plain": [
       "   transactionId   visitorId       date  revenue group\n",
       "0     3667963787  3312258926 2019-08-15     1650     B\n",
       "1     2804400009  3642806036 2019-08-15      730     B\n",
       "2     2961555356  4069496402 2019-08-15      400     A\n",
       "3     3797467345  1196621759 2019-08-15     9759     B\n",
       "4     2282983706  2322279887 2019-08-15     2308     B"
      ]
     },
     "metadata": {},
     "output_type": "display_data"
    }
   ],
   "source": [
    "orders.info()\n",
    "display(orders.head())"
   ]
  },
  {
   "cell_type": "code",
   "execution_count": 9,
   "metadata": {},
   "outputs": [
    {
     "name": "stdout",
     "output_type": "stream",
     "text": [
      "<class 'pandas.core.frame.DataFrame'>\n",
      "RangeIndex: 62 entries, 0 to 61\n",
      "Data columns (total 3 columns):\n",
      " #   Column    Non-Null Count  Dtype         \n",
      "---  ------    --------------  -----         \n",
      " 0   date      62 non-null     datetime64[ns]\n",
      " 1   group     62 non-null     object        \n",
      " 2   visitors  62 non-null     int64         \n",
      "dtypes: datetime64[ns](1), int64(1), object(1)\n",
      "memory usage: 1.6+ KB\n"
     ]
    },
    {
     "data": {
      "text/html": [
       "<div>\n",
       "<style scoped>\n",
       "    .dataframe tbody tr th:only-of-type {\n",
       "        vertical-align: middle;\n",
       "    }\n",
       "\n",
       "    .dataframe tbody tr th {\n",
       "        vertical-align: top;\n",
       "    }\n",
       "\n",
       "    .dataframe thead th {\n",
       "        text-align: right;\n",
       "    }\n",
       "</style>\n",
       "<table border=\"1\" class=\"dataframe\">\n",
       "  <thead>\n",
       "    <tr style=\"text-align: right;\">\n",
       "      <th></th>\n",
       "      <th>date</th>\n",
       "      <th>group</th>\n",
       "      <th>visitors</th>\n",
       "    </tr>\n",
       "  </thead>\n",
       "  <tbody>\n",
       "    <tr>\n",
       "      <th>0</th>\n",
       "      <td>2019-08-01</td>\n",
       "      <td>A</td>\n",
       "      <td>719</td>\n",
       "    </tr>\n",
       "    <tr>\n",
       "      <th>1</th>\n",
       "      <td>2019-08-02</td>\n",
       "      <td>A</td>\n",
       "      <td>619</td>\n",
       "    </tr>\n",
       "    <tr>\n",
       "      <th>2</th>\n",
       "      <td>2019-08-03</td>\n",
       "      <td>A</td>\n",
       "      <td>507</td>\n",
       "    </tr>\n",
       "    <tr>\n",
       "      <th>3</th>\n",
       "      <td>2019-08-04</td>\n",
       "      <td>A</td>\n",
       "      <td>717</td>\n",
       "    </tr>\n",
       "    <tr>\n",
       "      <th>4</th>\n",
       "      <td>2019-08-05</td>\n",
       "      <td>A</td>\n",
       "      <td>756</td>\n",
       "    </tr>\n",
       "  </tbody>\n",
       "</table>\n",
       "</div>"
      ],
      "text/plain": [
       "        date group  visitors\n",
       "0 2019-08-01     A       719\n",
       "1 2019-08-02     A       619\n",
       "2 2019-08-03     A       507\n",
       "3 2019-08-04     A       717\n",
       "4 2019-08-05     A       756"
      ]
     },
     "metadata": {},
     "output_type": "display_data"
    }
   ],
   "source": [
    "visitors.info()\n",
    "display(visitors.head())"
   ]
  },
  {
   "cell_type": "code",
   "execution_count": 10,
   "metadata": {},
   "outputs": [
    {
     "name": "stdout",
     "output_type": "stream",
     "text": [
      "количество дубликатов в таблице заказов: 0\n",
      "количество дубликатов в таблице визитов: 0\n"
     ]
    }
   ],
   "source": [
    "print('количество дубликатов в таблице заказов:', orders.duplicated().sum())\n",
    "print('количество дубликатов в таблице визитов:', visitors.duplicated().sum())"
   ]
  },
  {
   "cell_type": "markdown",
   "metadata": {},
   "source": [
    "Пропусков и дубликатов нет, проверим даты"
   ]
  },
  {
   "cell_type": "code",
   "execution_count": 11,
   "metadata": {},
   "outputs": [
    {
     "name": "stdout",
     "output_type": "stream",
     "text": [
      "Группа А:\n",
      "первый покупатель 2019-08-01 00:00:00 - последний покупатель 2019-08-31 00:00:00\n",
      "количество посетителей 18736\n",
      "количество уникальных покупателей 503\n",
      "\n",
      "Группа B:\n",
      "первый покупатель 2019-08-01 00:00:00 - последний покупатель 2019-08-31 00:00:00\n",
      "количество посетителей 18916\n",
      "количество уникальных покупателей 586\n"
     ]
    }
   ],
   "source": [
    "print('Группа А:')\n",
    "print('первый покупатель', orders[orders['group'] == 'A']['date'].min(), '- последний покупатель', orders[orders['group'] == 'A']['date'].max())\n",
    "print('количество посетителей', visitors[visitors['group'] == 'A']['visitors'].sum())\n",
    "print('количество уникальных покупателей', orders[orders['group'] == 'A']['visitorId'].nunique())\n",
    "print()\n",
    "print('Группа B:')\n",
    "print('первый покупатель', orders[orders['group'] == 'B']['date'].min(), '- последний покупатель', orders[orders['group'] == 'B']['date'].max())\n",
    "print('количество посетителей', visitors[visitors['group'] == 'B']['visitors'].sum())\n",
    "print('количество уникальных покупателей', orders[orders['group'] == 'B']['visitorId'].nunique())"
   ]
  },
  {
   "cell_type": "markdown",
   "metadata": {},
   "source": [
    "Тест проводился с 1 августа 2019 по 31 августа 2019, количество посетителей в группах отличается менее чем на 1%"
   ]
  },
  {
   "cell_type": "markdown",
   "metadata": {},
   "source": [
    "проверим, пересекались покупатели групп или нет"
   ]
  },
  {
   "cell_type": "code",
   "execution_count": 12,
   "metadata": {},
   "outputs": [
    {
     "name": "stdout",
     "output_type": "stream",
     "text": [
      "transactionIdA    89\n",
      "visitorId         58\n",
      "dateA             27\n",
      "revenueA          82\n",
      "groupA             1\n",
      "transactionIdB    92\n",
      "dateB             29\n",
      "revenueB          87\n",
      "groupB             1\n",
      "dtype: int64\n"
     ]
    }
   ],
   "source": [
    "print(orders[orders['group'] == 'A'].merge(orders[orders['group'] == 'B'], on='visitorId', suffixes=('A', 'B')).nunique())"
   ]
  },
  {
   "cell_type": "markdown",
   "metadata": {},
   "source": [
    "Около 10% покупателей совершали покупки в двух группах, это достаточно много, в группе А они совершили 89 покупок, в группе В - 92 покупки, сильного перекоса по покупкам нет, поэтому не будем удалять их из исследования."
   ]
  },
  {
   "cell_type": "markdown",
   "metadata": {},
   "source": [
    "Подготовим данные для анализа кумулятивных метрик."
   ]
  },
  {
   "cell_type": "code",
   "execution_count": 13,
   "metadata": {},
   "outputs": [],
   "source": [
    "# создаем массив уникальных пар значений дат и групп теста\n",
    "datesGroups = orders[['date','group']].drop_duplicates()"
   ]
  },
  {
   "cell_type": "code",
   "execution_count": 14,
   "metadata": {},
   "outputs": [],
   "source": [
    "# создадим таблицы кумулятивных значений для заказов и посещений\n",
    "ordersAggregated = datesGroups.apply(lambda x: orders[np.logical_and(orders['date'] <= x['date'], orders['group'] == x['group'])].agg({'date' : 'max', 'group' : 'max', 'transactionId' : 'nunique', 'visitorId' : 'nunique', 'revenue' : 'sum'}), axis=1).sort_values(by=['date','group'])\n",
    "visitorsAggregated = datesGroups.apply(lambda x: visitors[np.logical_and(visitors['date'] <= x['date'], visitors['group'] == x['group'])].agg({'date' : 'max', 'group' : 'max', 'visitors' : 'sum'}), axis=1).sort_values(by=['date','group'])"
   ]
  },
  {
   "cell_type": "code",
   "execution_count": 15,
   "metadata": {},
   "outputs": [
    {
     "data": {
      "text/html": [
       "<div>\n",
       "<style scoped>\n",
       "    .dataframe tbody tr th:only-of-type {\n",
       "        vertical-align: middle;\n",
       "    }\n",
       "\n",
       "    .dataframe tbody tr th {\n",
       "        vertical-align: top;\n",
       "    }\n",
       "\n",
       "    .dataframe thead th {\n",
       "        text-align: right;\n",
       "    }\n",
       "</style>\n",
       "<table border=\"1\" class=\"dataframe\">\n",
       "  <thead>\n",
       "    <tr style=\"text-align: right;\">\n",
       "      <th></th>\n",
       "      <th>date</th>\n",
       "      <th>group</th>\n",
       "      <th>orders</th>\n",
       "      <th>buyers</th>\n",
       "      <th>revenue</th>\n",
       "      <th>visitors</th>\n",
       "    </tr>\n",
       "  </thead>\n",
       "  <tbody>\n",
       "    <tr>\n",
       "      <th>0</th>\n",
       "      <td>2019-08-01</td>\n",
       "      <td>A</td>\n",
       "      <td>24</td>\n",
       "      <td>20</td>\n",
       "      <td>148579</td>\n",
       "      <td>719</td>\n",
       "    </tr>\n",
       "    <tr>\n",
       "      <th>1</th>\n",
       "      <td>2019-08-01</td>\n",
       "      <td>B</td>\n",
       "      <td>21</td>\n",
       "      <td>20</td>\n",
       "      <td>101217</td>\n",
       "      <td>713</td>\n",
       "    </tr>\n",
       "    <tr>\n",
       "      <th>2</th>\n",
       "      <td>2019-08-02</td>\n",
       "      <td>A</td>\n",
       "      <td>44</td>\n",
       "      <td>38</td>\n",
       "      <td>242401</td>\n",
       "      <td>1338</td>\n",
       "    </tr>\n",
       "    <tr>\n",
       "      <th>3</th>\n",
       "      <td>2019-08-02</td>\n",
       "      <td>B</td>\n",
       "      <td>45</td>\n",
       "      <td>43</td>\n",
       "      <td>266748</td>\n",
       "      <td>1294</td>\n",
       "    </tr>\n",
       "    <tr>\n",
       "      <th>4</th>\n",
       "      <td>2019-08-03</td>\n",
       "      <td>A</td>\n",
       "      <td>68</td>\n",
       "      <td>62</td>\n",
       "      <td>354874</td>\n",
       "      <td>1845</td>\n",
       "    </tr>\n",
       "  </tbody>\n",
       "</table>\n",
       "</div>"
      ],
      "text/plain": [
       "        date group  orders  buyers  revenue  visitors\n",
       "0 2019-08-01     A      24      20   148579       719\n",
       "1 2019-08-01     B      21      20   101217       713\n",
       "2 2019-08-02     A      44      38   242401      1338\n",
       "3 2019-08-02     B      45      43   266748      1294\n",
       "4 2019-08-03     A      68      62   354874      1845"
      ]
     },
     "metadata": {},
     "output_type": "display_data"
    }
   ],
   "source": [
    "# объединяем кумулятивные данные в одной таблице и присваиваем ее столбцам понятные названия\n",
    "cumulativeData = ordersAggregated.merge(visitorsAggregated, left_on=['date', 'group'], right_on=['date', 'group'])\n",
    "cumulativeData.columns = ['date', 'group', 'orders', 'buyers', 'revenue', 'visitors']\n",
    "\n",
    "display(cumulativeData.head(5))"
   ]
  },
  {
   "cell_type": "code",
   "execution_count": 16,
   "metadata": {},
   "outputs": [],
   "source": [
    "# датафрейм с кумулятивной выручкой, кумулятивным количеством заказов, покупателей и посетителей по дням в группе А\n",
    "cumulativeDataA = cumulativeData[cumulativeData['group']=='A'][['date','revenue', 'orders', 'buyers', 'visitors']]\n",
    "\n",
    "# датафрейм с кумулятивной выручкой, кумулятивным количеством заказов, покупателей и посетителей по дням в группе В\n",
    "cumulativeDataB = cumulativeData[cumulativeData['group']=='B'][['date','revenue', 'orders', 'buyers', 'visitors']]"
   ]
  },
  {
   "cell_type": "code",
   "execution_count": 17,
   "metadata": {},
   "outputs": [
    {
     "data": {
      "text/html": [
       "<div>\n",
       "<style scoped>\n",
       "    .dataframe tbody tr th:only-of-type {\n",
       "        vertical-align: middle;\n",
       "    }\n",
       "\n",
       "    .dataframe tbody tr th {\n",
       "        vertical-align: top;\n",
       "    }\n",
       "\n",
       "    .dataframe thead th {\n",
       "        text-align: right;\n",
       "    }\n",
       "</style>\n",
       "<table border=\"1\" class=\"dataframe\">\n",
       "  <thead>\n",
       "    <tr style=\"text-align: right;\">\n",
       "      <th></th>\n",
       "      <th>date</th>\n",
       "      <th>revenue</th>\n",
       "      <th>orders</th>\n",
       "      <th>buyers</th>\n",
       "      <th>visitors</th>\n",
       "    </tr>\n",
       "  </thead>\n",
       "  <tbody>\n",
       "    <tr>\n",
       "      <th>0</th>\n",
       "      <td>2019-08-01</td>\n",
       "      <td>148579</td>\n",
       "      <td>24</td>\n",
       "      <td>20</td>\n",
       "      <td>719</td>\n",
       "    </tr>\n",
       "    <tr>\n",
       "      <th>2</th>\n",
       "      <td>2019-08-02</td>\n",
       "      <td>242401</td>\n",
       "      <td>44</td>\n",
       "      <td>38</td>\n",
       "      <td>1338</td>\n",
       "    </tr>\n",
       "    <tr>\n",
       "      <th>4</th>\n",
       "      <td>2019-08-03</td>\n",
       "      <td>354874</td>\n",
       "      <td>68</td>\n",
       "      <td>62</td>\n",
       "      <td>1845</td>\n",
       "    </tr>\n",
       "    <tr>\n",
       "      <th>6</th>\n",
       "      <td>2019-08-04</td>\n",
       "      <td>425699</td>\n",
       "      <td>84</td>\n",
       "      <td>77</td>\n",
       "      <td>2562</td>\n",
       "    </tr>\n",
       "    <tr>\n",
       "      <th>8</th>\n",
       "      <td>2019-08-05</td>\n",
       "      <td>549917</td>\n",
       "      <td>109</td>\n",
       "      <td>100</td>\n",
       "      <td>3318</td>\n",
       "    </tr>\n",
       "  </tbody>\n",
       "</table>\n",
       "</div>"
      ],
      "text/plain": [
       "        date  revenue  orders  buyers  visitors\n",
       "0 2019-08-01   148579      24      20       719\n",
       "2 2019-08-02   242401      44      38      1338\n",
       "4 2019-08-03   354874      68      62      1845\n",
       "6 2019-08-04   425699      84      77      2562\n",
       "8 2019-08-05   549917     109     100      3318"
      ]
     },
     "metadata": {},
     "output_type": "display_data"
    }
   ],
   "source": [
    "display(cumulativeDataA.head())"
   ]
  },
  {
   "cell_type": "code",
   "execution_count": 18,
   "metadata": {},
   "outputs": [],
   "source": [
    "# собираем данные группы А и группы В в одном датафрейме\n",
    "mergedCumulativeData = cumulativeDataA.merge(cumulativeDataB, left_on='date', right_on='date', how='left', suffixes=['A', 'B'])"
   ]
  },
  {
   "cell_type": "code",
   "execution_count": 19,
   "metadata": {},
   "outputs": [
    {
     "data": {
      "text/html": [
       "<div>\n",
       "<style scoped>\n",
       "    .dataframe tbody tr th:only-of-type {\n",
       "        vertical-align: middle;\n",
       "    }\n",
       "\n",
       "    .dataframe tbody tr th {\n",
       "        vertical-align: top;\n",
       "    }\n",
       "\n",
       "    .dataframe thead th {\n",
       "        text-align: right;\n",
       "    }\n",
       "</style>\n",
       "<table border=\"1\" class=\"dataframe\">\n",
       "  <thead>\n",
       "    <tr style=\"text-align: right;\">\n",
       "      <th></th>\n",
       "      <th>date</th>\n",
       "      <th>revenueA</th>\n",
       "      <th>ordersA</th>\n",
       "      <th>buyersA</th>\n",
       "      <th>visitorsA</th>\n",
       "      <th>revenueB</th>\n",
       "      <th>ordersB</th>\n",
       "      <th>buyersB</th>\n",
       "      <th>visitorsB</th>\n",
       "    </tr>\n",
       "  </thead>\n",
       "  <tbody>\n",
       "    <tr>\n",
       "      <th>0</th>\n",
       "      <td>2019-08-01</td>\n",
       "      <td>148579</td>\n",
       "      <td>24</td>\n",
       "      <td>20</td>\n",
       "      <td>719</td>\n",
       "      <td>101217</td>\n",
       "      <td>21</td>\n",
       "      <td>20</td>\n",
       "      <td>713</td>\n",
       "    </tr>\n",
       "    <tr>\n",
       "      <th>1</th>\n",
       "      <td>2019-08-02</td>\n",
       "      <td>242401</td>\n",
       "      <td>44</td>\n",
       "      <td>38</td>\n",
       "      <td>1338</td>\n",
       "      <td>266748</td>\n",
       "      <td>45</td>\n",
       "      <td>43</td>\n",
       "      <td>1294</td>\n",
       "    </tr>\n",
       "    <tr>\n",
       "      <th>2</th>\n",
       "      <td>2019-08-03</td>\n",
       "      <td>354874</td>\n",
       "      <td>68</td>\n",
       "      <td>62</td>\n",
       "      <td>1845</td>\n",
       "      <td>380996</td>\n",
       "      <td>61</td>\n",
       "      <td>59</td>\n",
       "      <td>1803</td>\n",
       "    </tr>\n",
       "    <tr>\n",
       "      <th>3</th>\n",
       "      <td>2019-08-04</td>\n",
       "      <td>425699</td>\n",
       "      <td>84</td>\n",
       "      <td>77</td>\n",
       "      <td>2562</td>\n",
       "      <td>489567</td>\n",
       "      <td>78</td>\n",
       "      <td>75</td>\n",
       "      <td>2573</td>\n",
       "    </tr>\n",
       "    <tr>\n",
       "      <th>4</th>\n",
       "      <td>2019-08-05</td>\n",
       "      <td>549917</td>\n",
       "      <td>109</td>\n",
       "      <td>100</td>\n",
       "      <td>3318</td>\n",
       "      <td>581995</td>\n",
       "      <td>101</td>\n",
       "      <td>98</td>\n",
       "      <td>3280</td>\n",
       "    </tr>\n",
       "  </tbody>\n",
       "</table>\n",
       "</div>"
      ],
      "text/plain": [
       "        date  revenueA  ordersA  buyersA  visitorsA  revenueB  ordersB  \\\n",
       "0 2019-08-01    148579       24       20        719    101217       21   \n",
       "1 2019-08-02    242401       44       38       1338    266748       45   \n",
       "2 2019-08-03    354874       68       62       1845    380996       61   \n",
       "3 2019-08-04    425699       84       77       2562    489567       78   \n",
       "4 2019-08-05    549917      109      100       3318    581995      101   \n",
       "\n",
       "   buyersB  visitorsB  \n",
       "0       20        713  \n",
       "1       43       1294  \n",
       "2       59       1803  \n",
       "3       75       2573  \n",
       "4       98       3280  "
      ]
     },
     "metadata": {},
     "output_type": "display_data"
    }
   ],
   "source": [
    "display(mergedCumulativeData.head())"
   ]
  },
  {
   "cell_type": "markdown",
   "metadata": {},
   "source": [
    "## Кумулятивная выручка"
   ]
  },
  {
   "cell_type": "markdown",
   "metadata": {},
   "source": [
    "Построим графики кумулятивной выручки по дням и группам A/B-тестирования"
   ]
  },
  {
   "cell_type": "code",
   "execution_count": 20,
   "metadata": {},
   "outputs": [
    {
     "data": {
      "image/png": "[encoded data removed]",
      "text/plain": [
       "<Figure size 1080x720 with 1 Axes>"
      ]
     },
     "metadata": {
      "needs_background": "light"
     },
     "output_type": "display_data"
    }
   ],
   "source": [
    "# строим график кумулятивной выручки группы А\n",
    "plt.plot(cumulativeDataA['date'], cumulativeDataA['revenue'], label='A')\n",
    "\n",
    "# строим график кумулятивной выручки группы B\n",
    "plt.plot(cumulativeDataB['date'], cumulativeDataB['revenue'], label='B')\n",
    "plt.title('кумулятивная выручка')\n",
    "plt.xlabel('дата')\n",
    "plt.ylabel('кумулятивная выручка')\n",
    "plt.legend()\n",
    "plt.show()"
   ]
  },
  {
   "cell_type": "markdown",
   "metadata": {},
   "source": [
    "Кумулятивная выручка группы А стабильно растет без выраженных скачков, а вот в группе В наблюдается резкий скачок, после скачка графики идут параллельно. Очень вероятно, что после удаления выбросов мы увидим одинаковые графики. Выброс вероятно связан с крупными заказами или заказом, или с резким увеличением количества заказов (менее вероятно)."
   ]
  },
  {
   "cell_type": "markdown",
   "metadata": {},
   "source": [
    "## Кумулятивный средний чек"
   ]
  },
  {
   "cell_type": "code",
   "execution_count": 21,
   "metadata": {},
   "outputs": [
    {
     "data": {
      "image/png": "[encoded data removed]",
      "text/plain": [
       "<Figure size 1080x720 with 1 Axes>"
      ]
     },
     "metadata": {
      "needs_background": "light"
     },
     "output_type": "display_data"
    }
   ],
   "source": [
    "plt.plot(cumulativeDataA['date'], cumulativeDataA['revenue']/cumulativeDataA['orders'], label='A')\n",
    "plt.plot(cumulativeDataB['date'], cumulativeDataB['revenue']/cumulativeDataB['orders'], label='B')\n",
    "plt.legend()\n",
    "plt.title('кумулятивный средний чек')\n",
    "plt.ylabel('кумулятивный средний чек')\n",
    "plt.xlabel('дата')\n",
    "plt.show()"
   ]
  },
  {
   "cell_type": "markdown",
   "metadata": {},
   "source": [
    "Наблюдаем колебания среднего чека в начале наблюдения, затем видим резкий скачок в группе В, это подтверждает предположение об аномально крупных заказах. К концу наблюдения мы видим медленный рост среднего чека в группе А и снижение среднего чека в группе В. Не исключено, что после удаления выбросов мы все-таки увидим различия в группах."
   ]
  },
  {
   "cell_type": "markdown",
   "metadata": {},
   "source": [
    "## Относительное различие среднего чека"
   ]
  },
  {
   "cell_type": "code",
   "execution_count": 22,
   "metadata": {},
   "outputs": [
    {
     "data": {
      "image/png": "[encoded data removed]",
      "text/plain": [
       "<Figure size 1080x720 with 1 Axes>"
      ]
     },
     "metadata": {
      "needs_background": "light"
     },
     "output_type": "display_data"
    }
   ],
   "source": [
    "# cтроим отношение средних чеков\n",
    "plt.plot(mergedCumulativeData['date'], (mergedCumulativeData['revenueB']/mergedCumulativeData['ordersB'])/(mergedCumulativeData['revenueA']/mergedCumulativeData['ordersA'])-1)\n",
    "\n",
    "# добавляем ось X\n",
    "plt.axhline(y=0, color='black', linestyle='--')\n",
    "plt.title('относительное различие среднего чека В к А')\n",
    "plt.xlabel('дата')\n",
    "plt.ylabel('относительное изменение')\n",
    "plt.show()"
   ]
  },
  {
   "cell_type": "markdown",
   "metadata": {},
   "source": [
    "график относительного различия кумулятивных средних чеков демонстрирует наличие выбросов"
   ]
  },
  {
   "cell_type": "markdown",
   "metadata": {},
   "source": [
    "## Кумулятивное среднее количество заказов на посетителя"
   ]
  },
  {
   "cell_type": "code",
   "execution_count": 23,
   "metadata": {},
   "outputs": [
    {
     "data": {
      "image/png": "[encoded data removed]",
      "text/plain": [
       "<Figure size 1080x720 with 1 Axes>"
      ]
     },
     "metadata": {
      "needs_background": "light"
     },
     "output_type": "display_data"
    }
   ],
   "source": [
    "plt.plot(cumulativeDataA['date'], cumulativeDataA['orders']/cumulativeDataA['visitors'], label='A')\n",
    "plt.plot(cumulativeDataB['date'], cumulativeDataB['orders']/cumulativeDataB['visitors'], label='B')\n",
    "plt.title('кумулятивное среднее количество заказов на посетителя')\n",
    "plt.legend()\n",
    "plt.xlabel('дата')\n",
    "plt.ylabel('кумулятивное среднее количество заказов на посетителя')\n",
    "plt.show()"
   ]
  },
  {
   "cell_type": "markdown",
   "metadata": {},
   "source": [
    "Видим серьезные колебания, затем рост в группе В и падение в группе А"
   ]
  },
  {
   "cell_type": "markdown",
   "metadata": {},
   "source": [
    "## Относительное изменение кумулятивного среднего количества заказов на посетителя группы В к группе А"
   ]
  },
  {
   "cell_type": "code",
   "execution_count": 24,
   "metadata": {},
   "outputs": [
    {
     "data": {
      "image/png": "[encoded data removed]",
      "text/plain": [
       "<Figure size 1080x720 with 1 Axes>"
      ]
     },
     "metadata": {
      "needs_background": "light"
     },
     "output_type": "display_data"
    }
   ],
   "source": [
    "# cтроим отношение среднего количества заказов на посетителя\n",
    "plt.plot(mergedCumulativeData['date'], (mergedCumulativeData['ordersB']/mergedCumulativeData['visitorsB'])/(mergedCumulativeData['ordersA']/mergedCumulativeData['visitorsA'])-1)\n",
    "\n",
    "plt.axhline(y=0, color='black', linestyle='--')\n",
    "plt.title('относительное изменение кумулятивного среднего количества заказов на посетителя группы В к А')\n",
    "plt.xlabel('дата')\n",
    "plt.ylabel('относительное изменение')\n",
    "plt.show()"
   ]
  },
  {
   "cell_type": "markdown",
   "metadata": {},
   "source": [
    "группа В явно лидирует"
   ]
  },
  {
   "cell_type": "markdown",
   "metadata": {},
   "source": [
    "## Количество заказов по пользователям"
   ]
  },
  {
   "cell_type": "code",
   "execution_count": 25,
   "metadata": {},
   "outputs": [
    {
     "data": {
      "text/html": [
       "<div>\n",
       "<style scoped>\n",
       "    .dataframe tbody tr th:only-of-type {\n",
       "        vertical-align: middle;\n",
       "    }\n",
       "\n",
       "    .dataframe tbody tr th {\n",
       "        vertical-align: top;\n",
       "    }\n",
       "\n",
       "    .dataframe thead th {\n",
       "        text-align: right;\n",
       "    }\n",
       "</style>\n",
       "<table border=\"1\" class=\"dataframe\">\n",
       "  <thead>\n",
       "    <tr style=\"text-align: right;\">\n",
       "      <th></th>\n",
       "      <th>buyerId</th>\n",
       "      <th>orders</th>\n",
       "    </tr>\n",
       "  </thead>\n",
       "  <tbody>\n",
       "    <tr>\n",
       "      <th>1023</th>\n",
       "      <td>4256040402</td>\n",
       "      <td>11</td>\n",
       "    </tr>\n",
       "    <tr>\n",
       "      <th>591</th>\n",
       "      <td>2458001652</td>\n",
       "      <td>11</td>\n",
       "    </tr>\n",
       "    <tr>\n",
       "      <th>569</th>\n",
       "      <td>2378935119</td>\n",
       "      <td>9</td>\n",
       "    </tr>\n",
       "    <tr>\n",
       "      <th>487</th>\n",
       "      <td>2038680547</td>\n",
       "      <td>8</td>\n",
       "    </tr>\n",
       "    <tr>\n",
       "      <th>44</th>\n",
       "      <td>199603092</td>\n",
       "      <td>5</td>\n",
       "    </tr>\n",
       "  </tbody>\n",
       "</table>\n",
       "</div>"
      ],
      "text/plain": [
       "         buyerId  orders\n",
       "1023  4256040402      11\n",
       "591   2458001652      11\n",
       "569   2378935119       9\n",
       "487   2038680547       8\n",
       "44     199603092       5"
      ]
     },
     "metadata": {},
     "output_type": "display_data"
    }
   ],
   "source": [
    "ordersByBuyers = orders.groupby('visitorId', as_index=False).agg({'transactionId': 'nunique'})\n",
    "\n",
    "ordersByBuyers.columns = ['buyerId', 'orders']\n",
    "\n",
    "display(ordersByBuyers.sort_values(by='orders', ascending=False).head()) "
   ]
  },
  {
   "cell_type": "code",
   "execution_count": 26,
   "metadata": {},
   "outputs": [
    {
     "data": {
      "image/png": "[encoded data removed]",
      "text/plain": [
       "<Figure size 1080x720 with 1 Axes>"
      ]
     },
     "metadata": {
      "needs_background": "light"
     },
     "output_type": "display_data"
    }
   ],
   "source": [
    "plt.hist(ordersByBuyers['orders'])\n",
    "plt.title('количество заказов покупателей')\n",
    "plt.xlabel('количество заказов')\n",
    "plt.ylabel('количество покупателей')\n",
    "plt.show()"
   ]
  },
  {
   "cell_type": "markdown",
   "metadata": {},
   "source": [
    "большинство покупателей сделали один заказ, но встречаются и чрезвычайно активные, которые сделали по 8, 9, 11 заказов"
   ]
  },
  {
   "cell_type": "code",
   "execution_count": 27,
   "metadata": {},
   "outputs": [
    {
     "data": {
      "image/png": "[encoded data removed]",
      "text/plain": [
       "<Figure size 1080x720 with 1 Axes>"
      ]
     },
     "metadata": {
      "needs_background": "light"
     },
     "output_type": "display_data"
    }
   ],
   "source": [
    "x_values = pd.Series(range(0,len(ordersByBuyers)))\n",
    "\n",
    "plt.scatter(x_values, ordersByBuyers['orders']) \n",
    "plt.title('количество заказов покупателей')\n",
    "plt.xlabel('порядковый номер покупателя')\n",
    "plt.ylabel('количество заказов')\n",
    "plt.show()"
   ]
  },
  {
   "cell_type": "markdown",
   "metadata": {},
   "source": [
    "8, 9, 11 заказов - это явно выбросы, посмотрим где находятся перцентили"
   ]
  },
  {
   "cell_type": "markdown",
   "metadata": {},
   "source": [
    "## Перцентили количества заказов, аномальные покупатели"
   ]
  },
  {
   "cell_type": "code",
   "execution_count": 28,
   "metadata": {},
   "outputs": [
    {
     "name": "stdout",
     "output_type": "stream",
     "text": [
      "[2. 4.]\n"
     ]
    }
   ],
   "source": [
    "print(np.percentile(ordersByBuyers['orders'], [95, 99]))"
   ]
  },
  {
   "cell_type": "markdown",
   "metadata": {},
   "source": [
    "95% покупателей сделали не более 2-х заказов, а 99% не более 4-х. Будем считать аномальными покупателей сделавших более 3-х заказов (покупателей, сделавших 4 заказа меньше, чем покупателей сделавших 5 заказов)"
   ]
  },
  {
   "cell_type": "markdown",
   "metadata": {},
   "source": [
    "## Стоимость заказов по пользователям"
   ]
  },
  {
   "cell_type": "code",
   "execution_count": 29,
   "metadata": {},
   "outputs": [
    {
     "data": {
      "text/html": [
       "<div>\n",
       "<style scoped>\n",
       "    .dataframe tbody tr th:only-of-type {\n",
       "        vertical-align: middle;\n",
       "    }\n",
       "\n",
       "    .dataframe tbody tr th {\n",
       "        vertical-align: top;\n",
       "    }\n",
       "\n",
       "    .dataframe thead th {\n",
       "        text-align: right;\n",
       "    }\n",
       "</style>\n",
       "<table border=\"1\" class=\"dataframe\">\n",
       "  <thead>\n",
       "    <tr style=\"text-align: right;\">\n",
       "      <th></th>\n",
       "      <th>revenue</th>\n",
       "    </tr>\n",
       "  </thead>\n",
       "  <tbody>\n",
       "    <tr>\n",
       "      <th>425</th>\n",
       "      <td>1294500</td>\n",
       "    </tr>\n",
       "    <tr>\n",
       "      <th>1196</th>\n",
       "      <td>202740</td>\n",
       "    </tr>\n",
       "    <tr>\n",
       "      <th>858</th>\n",
       "      <td>93940</td>\n",
       "    </tr>\n",
       "    <tr>\n",
       "      <th>1136</th>\n",
       "      <td>92550</td>\n",
       "    </tr>\n",
       "    <tr>\n",
       "      <th>744</th>\n",
       "      <td>86620</td>\n",
       "    </tr>\n",
       "    <tr>\n",
       "      <th>682</th>\n",
       "      <td>78990</td>\n",
       "    </tr>\n",
       "    <tr>\n",
       "      <th>662</th>\n",
       "      <td>78990</td>\n",
       "    </tr>\n",
       "    <tr>\n",
       "      <th>743</th>\n",
       "      <td>67990</td>\n",
       "    </tr>\n",
       "    <tr>\n",
       "      <th>1103</th>\n",
       "      <td>66350</td>\n",
       "    </tr>\n",
       "    <tr>\n",
       "      <th>1099</th>\n",
       "      <td>65710</td>\n",
       "    </tr>\n",
       "  </tbody>\n",
       "</table>\n",
       "</div>"
      ],
      "text/plain": [
       "      revenue\n",
       "425   1294500\n",
       "1196   202740\n",
       "858     93940\n",
       "1136    92550\n",
       "744     86620\n",
       "682     78990\n",
       "662     78990\n",
       "743     67990\n",
       "1103    66350\n",
       "1099    65710"
      ]
     },
     "metadata": {},
     "output_type": "display_data"
    }
   ],
   "source": [
    "display(orders[['revenue']].sort_values(by='revenue', ascending=False).head(10)) "
   ]
  },
  {
   "cell_type": "markdown",
   "metadata": {},
   "source": [
    "Первые два значения сильно выделяются, затем идет постепенный спад, установим границу 100тыс и построим гистограмму"
   ]
  },
  {
   "cell_type": "code",
   "execution_count": 30,
   "metadata": {},
   "outputs": [
    {
     "data": {
      "image/png": "[encoded data removed]",
      "text/plain": [
       "<Figure size 1080x720 with 1 Axes>"
      ]
     },
     "metadata": {
      "needs_background": "light"
     },
     "output_type": "display_data"
    }
   ],
   "source": [
    "plt.hist(orders[orders['revenue'] < 100000]['revenue']) \n",
    "plt.title('стоимость заказов по покупателям, заказы менее 100тыс')\n",
    "plt.xlabel('сумма заказов')\n",
    "plt.ylabel('количество покупателей')\n",
    "plt.show()"
   ]
  },
  {
   "cell_type": "markdown",
   "metadata": {},
   "source": [
    "теперь построим точечный график"
   ]
  },
  {
   "cell_type": "code",
   "execution_count": 31,
   "metadata": {},
   "outputs": [
    {
     "data": {
      "image/png": "[encoded data removed]",
      "text/plain": [
       "<Figure size 1080x720 with 1 Axes>"
      ]
     },
     "metadata": {
      "needs_background": "light"
     },
     "output_type": "display_data"
    }
   ],
   "source": [
    "x_values = pd.Series(range(0,len(orders['revenue'])))\n",
    "plt.scatter(x_values, orders['revenue'])\n",
    "plt.title('суммы заказов по покупателям')\n",
    "plt.xlabel('порядковый номер покупателя')\n",
    "plt.ylabel('сумма заказа')\n",
    "plt.show()"
   ]
  },
  {
   "cell_type": "markdown",
   "metadata": {},
   "source": [
    "на точечном графике хорошо видны два аномальных значения, один из низ просто затмил все остальные, построим график без них, ограничимся суммой заказа в 100тыс"
   ]
  },
  {
   "cell_type": "code",
   "execution_count": 32,
   "metadata": {},
   "outputs": [
    {
     "data": {
      "image/png": "[encoded data removed]",
      "text/plain": [
       "<Figure size 1080x720 with 1 Axes>"
      ]
     },
     "metadata": {
      "needs_background": "light"
     },
     "output_type": "display_data"
    }
   ],
   "source": [
    "# точечный график для стоимостей заказа меньше 100 тыс\n",
    "x_values = pd.Series(range(0,len(orders[orders['revenue'] < 100000]['revenue'])))\n",
    "plt.scatter(x_values, orders[orders['revenue'] < 100000]['revenue'])\n",
    "plt.axhline(y=40000, color='black', linestyle='--')\n",
    "plt.title('суммы заказов по покупателям, заказы до 100тыс')\n",
    "plt.xlabel('порядковый номер покупателя')\n",
    "plt.ylabel('сумма заказа')\n",
    "plt.show()"
   ]
  },
  {
   "cell_type": "markdown",
   "metadata": {},
   "source": [
    "## Перцентили стоимости заказов, аномальные покупатели"
   ]
  },
  {
   "cell_type": "code",
   "execution_count": 33,
   "metadata": {},
   "outputs": [
    {
     "name": "stdout",
     "output_type": "stream",
     "text": [
      "[28000.  58233.2]\n"
     ]
    }
   ],
   "source": [
    "print(np.percentile(orders['revenue'], [95, 99]))"
   ]
  },
  {
   "cell_type": "markdown",
   "metadata": {},
   "source": [
    "Стоимость заказа в 95% случаях не превышает 28000, а в 99% не превышает 58233.2, можно принять границу в этих пределах, но стоимость заказа ниже 100тыс убывает постепенно, а два первых по величине идут с большим отрывом, можно два заказа принять за аномальные, остальные оставить."
   ]
  },
  {
   "cell_type": "markdown",
   "metadata": {},
   "source": [
    "Из графиков мы видим, что количество заказов на покупателя и средний чек распределены не нормально, поэтому для оценки статистической значимости различий между группами применим непараметрический критерий Манна-Уитни, проведем четыре теста: для среднего количества заказов и для среднего чека на \"сырых\" и \"очищенных\" данных."
   ]
  },
  {
   "cell_type": "markdown",
   "metadata": {},
   "source": [
    "## Статистическая значимость различий в среднем количестве заказов на посетителя между группами по \"сырым\" данным"
   ]
  },
  {
   "cell_type": "markdown",
   "metadata": {},
   "source": [
    "Подготовим таблицы с ежедневным количеством посетителей, заказов и выручкой (без накопления) с разбивкой по группам"
   ]
  },
  {
   "cell_type": "code",
   "execution_count": 34,
   "metadata": {},
   "outputs": [
    {
     "data": {
      "text/html": [
       "<div>\n",
       "<style scoped>\n",
       "    .dataframe tbody tr th:only-of-type {\n",
       "        vertical-align: middle;\n",
       "    }\n",
       "\n",
       "    .dataframe tbody tr th {\n",
       "        vertical-align: top;\n",
       "    }\n",
       "\n",
       "    .dataframe thead th {\n",
       "        text-align: right;\n",
       "    }\n",
       "</style>\n",
       "<table border=\"1\" class=\"dataframe\">\n",
       "  <thead>\n",
       "    <tr style=\"text-align: right;\">\n",
       "      <th></th>\n",
       "      <th>date</th>\n",
       "      <th>visitorsPerDateA</th>\n",
       "      <th>visitorsPerDateB</th>\n",
       "    </tr>\n",
       "  </thead>\n",
       "  <tbody>\n",
       "    <tr>\n",
       "      <th>0</th>\n",
       "      <td>2019-08-01</td>\n",
       "      <td>719</td>\n",
       "      <td>713</td>\n",
       "    </tr>\n",
       "    <tr>\n",
       "      <th>1</th>\n",
       "      <td>2019-08-02</td>\n",
       "      <td>619</td>\n",
       "      <td>581</td>\n",
       "    </tr>\n",
       "    <tr>\n",
       "      <th>2</th>\n",
       "      <td>2019-08-03</td>\n",
       "      <td>507</td>\n",
       "      <td>509</td>\n",
       "    </tr>\n",
       "    <tr>\n",
       "      <th>3</th>\n",
       "      <td>2019-08-04</td>\n",
       "      <td>717</td>\n",
       "      <td>770</td>\n",
       "    </tr>\n",
       "    <tr>\n",
       "      <th>4</th>\n",
       "      <td>2019-08-05</td>\n",
       "      <td>756</td>\n",
       "      <td>707</td>\n",
       "    </tr>\n",
       "  </tbody>\n",
       "</table>\n",
       "</div>"
      ],
      "text/plain": [
       "        date  visitorsPerDateA  visitorsPerDateB\n",
       "0 2019-08-01               719               713\n",
       "1 2019-08-02               619               581\n",
       "2 2019-08-03               507               509\n",
       "3 2019-08-04               717               770\n",
       "4 2019-08-05               756               707"
      ]
     },
     "metadata": {},
     "output_type": "display_data"
    }
   ],
   "source": [
    "# количество посетителей по дням группа А\n",
    "visitorsADaily = visitors[visitors['group'] == 'A'][['date', 'visitors']]\n",
    "visitorsADaily.columns = ['date', 'visitorsPerDateA']\n",
    "\n",
    "# количество посетителей по дням группа В\n",
    "visitorsBDaily = visitors[visitors['group'] == 'B'][['date', 'visitors']]\n",
    "visitorsBDaily.columns = ['date', 'visitorsPerDateB']\n",
    "\n",
    "# объединенная таблица посетителей по дням\n",
    "visitorsDaily = visitorsADaily.merge(visitorsBDaily, left_on='date', right_on='date', how='left')\n",
    "\n",
    "display(visitorsDaily.head())"
   ]
  },
  {
   "cell_type": "code",
   "execution_count": 35,
   "metadata": {},
   "outputs": [
    {
     "data": {
      "text/html": [
       "<div>\n",
       "<style scoped>\n",
       "    .dataframe tbody tr th:only-of-type {\n",
       "        vertical-align: middle;\n",
       "    }\n",
       "\n",
       "    .dataframe tbody tr th {\n",
       "        vertical-align: top;\n",
       "    }\n",
       "\n",
       "    .dataframe thead th {\n",
       "        text-align: right;\n",
       "    }\n",
       "</style>\n",
       "<table border=\"1\" class=\"dataframe\">\n",
       "  <thead>\n",
       "    <tr style=\"text-align: right;\">\n",
       "      <th></th>\n",
       "      <th>date</th>\n",
       "      <th>ordersPerDateA</th>\n",
       "      <th>revenuePerDateA</th>\n",
       "      <th>ordersPerDateB</th>\n",
       "      <th>revenuePerDateB</th>\n",
       "    </tr>\n",
       "  </thead>\n",
       "  <tbody>\n",
       "    <tr>\n",
       "      <th>0</th>\n",
       "      <td>2019-08-01</td>\n",
       "      <td>24</td>\n",
       "      <td>148579</td>\n",
       "      <td>21</td>\n",
       "      <td>101217</td>\n",
       "    </tr>\n",
       "    <tr>\n",
       "      <th>1</th>\n",
       "      <td>2019-08-02</td>\n",
       "      <td>20</td>\n",
       "      <td>93822</td>\n",
       "      <td>24</td>\n",
       "      <td>165531</td>\n",
       "    </tr>\n",
       "    <tr>\n",
       "      <th>2</th>\n",
       "      <td>2019-08-03</td>\n",
       "      <td>24</td>\n",
       "      <td>112473</td>\n",
       "      <td>16</td>\n",
       "      <td>114248</td>\n",
       "    </tr>\n",
       "    <tr>\n",
       "      <th>3</th>\n",
       "      <td>2019-08-04</td>\n",
       "      <td>16</td>\n",
       "      <td>70825</td>\n",
       "      <td>17</td>\n",
       "      <td>108571</td>\n",
       "    </tr>\n",
       "    <tr>\n",
       "      <th>4</th>\n",
       "      <td>2019-08-05</td>\n",
       "      <td>25</td>\n",
       "      <td>124218</td>\n",
       "      <td>23</td>\n",
       "      <td>92428</td>\n",
       "    </tr>\n",
       "  </tbody>\n",
       "</table>\n",
       "</div>"
      ],
      "text/plain": [
       "        date  ordersPerDateA  revenuePerDateA  ordersPerDateB  revenuePerDateB\n",
       "0 2019-08-01              24           148579              21           101217\n",
       "1 2019-08-02              20            93822              24           165531\n",
       "2 2019-08-03              24           112473              16           114248\n",
       "3 2019-08-04              16            70825              17           108571\n",
       "4 2019-08-05              25           124218              23            92428"
      ]
     },
     "metadata": {},
     "output_type": "display_data"
    }
   ],
   "source": [
    "# количество заказов и сумма выручки по дням группа А\n",
    "ordersADaily = (\n",
    "    orders[orders['group'] == 'A'][['date', 'transactionId', 'visitorId', 'revenue']]\n",
    "    .groupby('date', as_index=False)\n",
    "    .agg({'transactionId': pd.Series.nunique, 'revenue': 'sum'})\n",
    ")\n",
    "ordersADaily.columns = ['date', 'ordersPerDateA', 'revenuePerDateA']\n",
    "\n",
    "# количество заказов и сумма выручки по дням группа В\n",
    "ordersBDaily = (\n",
    "    orders[orders['group'] == 'B'][['date', 'transactionId', 'visitorId', 'revenue']]\n",
    "    .groupby('date', as_index=False)\n",
    "    .agg({'transactionId': pd.Series.nunique, 'revenue': 'sum'})\n",
    ")\n",
    "ordersBDaily.columns = ['date', 'ordersPerDateB', 'revenuePerDateB']\n",
    "\n",
    "# объединенная таблица заказов и выручки по дням\n",
    "ordersDaily = ordersADaily.merge(ordersBDaily, left_on='date', right_on='date', how='left')\n",
    "\n",
    "display(ordersDaily.head())"
   ]
  },
  {
   "cell_type": "code",
   "execution_count": 36,
   "metadata": {},
   "outputs": [],
   "source": [
    "# объединенные визиты и заказы - ежедневные данные о визитах и заказах с разбивкой по группам\n",
    "data = ordersDaily.merge(visitorsDaily, left_on='date', right_on='date', how='left')"
   ]
  },
  {
   "cell_type": "code",
   "execution_count": 37,
   "metadata": {},
   "outputs": [
    {
     "data": {
      "text/html": [
       "<div>\n",
       "<style scoped>\n",
       "    .dataframe tbody tr th:only-of-type {\n",
       "        vertical-align: middle;\n",
       "    }\n",
       "\n",
       "    .dataframe tbody tr th {\n",
       "        vertical-align: top;\n",
       "    }\n",
       "\n",
       "    .dataframe thead th {\n",
       "        text-align: right;\n",
       "    }\n",
       "</style>\n",
       "<table border=\"1\" class=\"dataframe\">\n",
       "  <thead>\n",
       "    <tr style=\"text-align: right;\">\n",
       "      <th></th>\n",
       "      <th>date</th>\n",
       "      <th>ordersPerDateA</th>\n",
       "      <th>revenuePerDateA</th>\n",
       "      <th>ordersPerDateB</th>\n",
       "      <th>revenuePerDateB</th>\n",
       "      <th>visitorsPerDateA</th>\n",
       "      <th>visitorsPerDateB</th>\n",
       "    </tr>\n",
       "  </thead>\n",
       "  <tbody>\n",
       "    <tr>\n",
       "      <th>0</th>\n",
       "      <td>2019-08-01</td>\n",
       "      <td>24</td>\n",
       "      <td>148579</td>\n",
       "      <td>21</td>\n",
       "      <td>101217</td>\n",
       "      <td>719</td>\n",
       "      <td>713</td>\n",
       "    </tr>\n",
       "    <tr>\n",
       "      <th>1</th>\n",
       "      <td>2019-08-02</td>\n",
       "      <td>20</td>\n",
       "      <td>93822</td>\n",
       "      <td>24</td>\n",
       "      <td>165531</td>\n",
       "      <td>619</td>\n",
       "      <td>581</td>\n",
       "    </tr>\n",
       "    <tr>\n",
       "      <th>2</th>\n",
       "      <td>2019-08-03</td>\n",
       "      <td>24</td>\n",
       "      <td>112473</td>\n",
       "      <td>16</td>\n",
       "      <td>114248</td>\n",
       "      <td>507</td>\n",
       "      <td>509</td>\n",
       "    </tr>\n",
       "    <tr>\n",
       "      <th>3</th>\n",
       "      <td>2019-08-04</td>\n",
       "      <td>16</td>\n",
       "      <td>70825</td>\n",
       "      <td>17</td>\n",
       "      <td>108571</td>\n",
       "      <td>717</td>\n",
       "      <td>770</td>\n",
       "    </tr>\n",
       "    <tr>\n",
       "      <th>4</th>\n",
       "      <td>2019-08-05</td>\n",
       "      <td>25</td>\n",
       "      <td>124218</td>\n",
       "      <td>23</td>\n",
       "      <td>92428</td>\n",
       "      <td>756</td>\n",
       "      <td>707</td>\n",
       "    </tr>\n",
       "  </tbody>\n",
       "</table>\n",
       "</div>"
      ],
      "text/plain": [
       "        date  ordersPerDateA  revenuePerDateA  ordersPerDateB  \\\n",
       "0 2019-08-01              24           148579              21   \n",
       "1 2019-08-02              20            93822              24   \n",
       "2 2019-08-03              24           112473              16   \n",
       "3 2019-08-04              16            70825              17   \n",
       "4 2019-08-05              25           124218              23   \n",
       "\n",
       "   revenuePerDateB  visitorsPerDateA  visitorsPerDateB  \n",
       "0           101217               719               713  \n",
       "1           165531               619               581  \n",
       "2           114248               507               509  \n",
       "3           108571               717               770  \n",
       "4            92428               756               707  "
      ]
     },
     "metadata": {},
     "output_type": "display_data"
    }
   ],
   "source": [
    "display(data.head())"
   ]
  },
  {
   "cell_type": "code",
   "execution_count": 38,
   "metadata": {},
   "outputs": [],
   "source": [
    "# покупатели, совершавшие заказы и количество их заказов, группа А\n",
    "ordersByUsersA = (\n",
    "    orders[orders['group'] == 'A']\n",
    "    .groupby('visitorId', as_index=False)\n",
    "    .agg({'transactionId': pd.Series.nunique})\n",
    ")\n",
    "ordersByUsersA.columns = ['userId', 'orders']\n",
    "\n",
    "# покупатели, совершавшие заказы и количество их заказов, группа В\n",
    "ordersByUsersB = (\n",
    "    orders[orders['group'] == 'B']\n",
    "    .groupby('visitorId', as_index=False)\n",
    "    .agg({'transactionId': pd.Series.nunique})\n",
    ")\n",
    "ordersByUsersB.columns = ['userId', 'orders'] "
   ]
  },
  {
   "cell_type": "code",
   "execution_count": 39,
   "metadata": {},
   "outputs": [],
   "source": [
    "# количества заказов каждого покуптеля и нули для тех посетителей, которые не совершали покупки, группа А\n",
    "sampleA = pd.concat([ordersByUsersA['orders'],pd.Series(0, index=np.arange(data['visitorsPerDateA'].sum() - len(ordersByUsersA['orders'])), name='orders')],axis=0)\n",
    "\n",
    "# количества заказов каждого покуптеля и нули для тех посетителей, которые не совершали покупки, группа В\n",
    "sampleB = pd.concat([ordersByUsersB['orders'],pd.Series(0, index=np.arange(data['visitorsPerDateB'].sum() - len(ordersByUsersB['orders'])), name='orders')],axis=0)"
   ]
  },
  {
   "cell_type": "markdown",
   "metadata": {},
   "source": [
    "<b>Проверяем различие выборок среднего количества заказов на посетителя в группах А и В на \"сырых\" данных:</b>"
   ]
  },
  {
   "cell_type": "markdown",
   "metadata": {},
   "source": [
    "- нулевая гипотеза: среднее количество заказов на покупателя в группах не отличается\n",
    "- альтернативная гипотеза: среднее количество заказов в группах различно"
   ]
  },
  {
   "cell_type": "code",
   "execution_count": 40,
   "metadata": {},
   "outputs": [
    {
     "name": "stdout",
     "output_type": "stream",
     "text": [
      "p-value:\n",
      "0.017\n",
      "\n",
      "относительная разница между количеством заказов на посетителя по \"сырым\" данным\n",
      "0.138\n"
     ]
    }
   ],
   "source": [
    "print('p-value:')\n",
    "print(\"{0:.3f}\".format(stats.mannwhitneyu(sampleA, sampleB)[1]))\n",
    "print()\n",
    "print('относительная разница между количеством заказов на посетителя по \"сырым\" данным')\n",
    "print(\"{0:.3f}\".format(sampleB.mean() / sampleA.mean() - 1))"
   ]
  },
  {
   "cell_type": "markdown",
   "metadata": {},
   "source": [
    "По \"сырым\" данным нулевую гипотезу отвергаем - различие в среднем количестве заказов на посетителя в группах есть (p-value = 0.017 < 0.05), при этом среднее количество заказов на посетителя группы В выше на 13.8%"
   ]
  },
  {
   "cell_type": "markdown",
   "metadata": {},
   "source": [
    "## Статистическая значимость различий в среднем чеке между группами по \"сырым\" данным"
   ]
  },
  {
   "cell_type": "markdown",
   "metadata": {},
   "source": [
    "<b>Проверяем различие выборок среднего чека в группах А и В на \"сырых\" данных:</b>"
   ]
  },
  {
   "cell_type": "markdown",
   "metadata": {},
   "source": [
    "- нулевая гипотеза: средний чек в группах не отличается\n",
    "- альтернативная гипотеза: средний чек в группах различен"
   ]
  },
  {
   "cell_type": "code",
   "execution_count": 41,
   "metadata": {},
   "outputs": [
    {
     "name": "stdout",
     "output_type": "stream",
     "text": [
      "p-value:\n",
      "0.729\n",
      "\n",
      "относительная разница между средними чеками по \"сырым\" данным:\n",
      "0.259\n"
     ]
    }
   ],
   "source": [
    "print('p-value:')\n",
    "print('{0:.3f}'.format(stats.mannwhitneyu(orders[orders['group']=='A']['revenue'], orders[orders['group']=='B']['revenue'])[1]))\n",
    "print()\n",
    "print('относительная разница между средними чеками по \"сырым\" данным:')\n",
    "print('{0:.3f}'.format(orders[orders['group']=='B']['revenue'].mean()/orders[orders['group']=='A']['revenue'].mean()-1))"
   ]
  },
  {
   "cell_type": "markdown",
   "metadata": {},
   "source": [
    "p-value = 0.729 > 0.05 нулевую гипотезу не отвергаем, различия между группами в среднем чеке нет, при этом средний чек группы В выше на 25,9% Требуется проверка очищенных данных"
   ]
  },
  {
   "cell_type": "markdown",
   "metadata": {},
   "source": [
    "## Статистическая значимость различий в среднем количестве заказов на посетителя между группами по \"очищенным\" данным"
   ]
  },
  {
   "cell_type": "markdown",
   "metadata": {},
   "source": [
    "Выделим аномальных покупателей, совершивших более 3-х заказов и с заказами более 100тыс"
   ]
  },
  {
   "cell_type": "code",
   "execution_count": 42,
   "metadata": {},
   "outputs": [
    {
     "name": "stdout",
     "output_type": "stream",
     "text": [
      "количество аномальных покупателей 11\n"
     ]
    }
   ],
   "source": [
    "usersWithManyOrders = pd.concat(\n",
    "    [\n",
    "        ordersByUsersA[ordersByUsersA['orders'] > 3]['userId'],\n",
    "        ordersByUsersB[ordersByUsersB['orders'] > 3]['userId'],\n",
    "    ],\n",
    "    axis=0,\n",
    ")\n",
    "\n",
    "usersWithExpensiveOrders = orders[orders['revenue'] > 100000]['visitorId']\n",
    "\n",
    "abnormalUsers = (\n",
    "    pd.concat([usersWithManyOrders, usersWithExpensiveOrders], axis=0)\n",
    "    .drop_duplicates()\n",
    "    .sort_values()\n",
    ")\n",
    "\n",
    "print('количество аномальных покупателей', abnormalUsers.shape[0])"
   ]
  },
  {
   "cell_type": "markdown",
   "metadata": {},
   "source": [
    "количество уникальных покупателей в каждой группе больше 500, таким образом, потери пользователей при очистке составили около 1%"
   ]
  },
  {
   "cell_type": "markdown",
   "metadata": {},
   "source": [
    "подготовим выборки к тесту - уберем аномальные данные"
   ]
  },
  {
   "cell_type": "code",
   "execution_count": 43,
   "metadata": {},
   "outputs": [],
   "source": [
    "sampleAFiltered = pd.concat(\n",
    "    [\n",
    "        ordersByUsersA[\n",
    "            np.logical_not(ordersByUsersA['userId'].isin(abnormalUsers))\n",
    "        ]['orders'],\n",
    "        pd.Series(\n",
    "            0,\n",
    "            index=np.arange(\n",
    "                data['visitorsPerDateA'].sum() - len(ordersByUsersA['orders'])\n",
    "            ),\n",
    "            name='orders',\n",
    "        ),\n",
    "    ],\n",
    "    axis=0,\n",
    ")\n",
    "\n",
    "sampleBFiltered = pd.concat(\n",
    "    [\n",
    "        ordersByUsersB[\n",
    "            np.logical_not(ordersByUsersB['userId'].isin(abnormalUsers))\n",
    "        ]['orders'],\n",
    "        pd.Series(\n",
    "            0,\n",
    "            index=np.arange(\n",
    "                data['visitorsPerDateB'].sum() - len(ordersByUsersB['orders'])\n",
    "            ),\n",
    "            name='orders',\n",
    "        ),\n",
    "    ],\n",
    "    axis=0,\n",
    ")"
   ]
  },
  {
   "cell_type": "markdown",
   "metadata": {},
   "source": [
    "<b>Проверяем различие выборок среднего количества заказов на посетителя в группах А и В на \"очищенных\" данных:</b>"
   ]
  },
  {
   "cell_type": "markdown",
   "metadata": {},
   "source": [
    "- нулевая гипотеза: среднее количество заказов на покупателя в группах не отличается\n",
    "- альтернативная гипотеза: среднее количество заказов в группах различно"
   ]
  },
  {
   "cell_type": "code",
   "execution_count": 44,
   "metadata": {},
   "outputs": [
    {
     "name": "stdout",
     "output_type": "stream",
     "text": [
      "p-value:\n",
      "0.018\n",
      "\n",
      "относительная разница между количеством заказов на посетителя по \"очищенным\" данным\n",
      "0.143\n"
     ]
    }
   ],
   "source": [
    "print('p-value:')\n",
    "print('{0:.3f}'.format(stats.mannwhitneyu(sampleAFiltered, sampleBFiltered)[1]))\n",
    "print()\n",
    "print('относительная разница между количеством заказов на посетителя по \"очищенным\" данным')\n",
    "print('{0:.3f}'.format(sampleBFiltered.mean()/sampleAFiltered.mean()-1))"
   ]
  },
  {
   "cell_type": "markdown",
   "metadata": {},
   "source": [
    "Результаты по среднему количеству заказов на посетителя почти не изменились, очистка данных здесь не повлияла на результаты, нулевая гипотеза отвергается, разница в группах есть (p-value = 0.018 < 0.05), среднее количество заказов на посетителя группы В отностильно группы А немного выросло с 13.8% до 14.3%"
   ]
  },
  {
   "cell_type": "markdown",
   "metadata": {},
   "source": [
    "## Статистическая значимость различий в среднем чеке между группами по \"очищенным\" данным"
   ]
  },
  {
   "cell_type": "markdown",
   "metadata": {},
   "source": [
    "<b>Проверяем различие выборок среднего чека в группах А и В на \"очищенных\" данных:</b>"
   ]
  },
  {
   "cell_type": "markdown",
   "metadata": {},
   "source": [
    "- нулевая гипотеза: средний чек в группах не отличается\n",
    "- альтернативная гипотеза: средний чек в группах различен"
   ]
  },
  {
   "cell_type": "code",
   "execution_count": 45,
   "metadata": {},
   "outputs": [
    {
     "name": "stdout",
     "output_type": "stream",
     "text": [
      "p-value:\n",
      "0.823\n",
      "\n",
      "относительная разница между средними чеками по \"очищенным\" данным:\n",
      "-0.091\n"
     ]
    }
   ],
   "source": [
    "print('p-value:')\n",
    "print(\n",
    "    '{0:.3f}'.format(\n",
    "        stats.mannwhitneyu(\n",
    "            orders[\n",
    "                np.logical_and(\n",
    "                    orders['group'] == 'A',\n",
    "                    np.logical_not(orders['visitorId'].isin(abnormalUsers)),\n",
    "                )\n",
    "            ]['revenue'],\n",
    "            orders[\n",
    "                np.logical_and(\n",
    "                    orders['group'] == 'B',\n",
    "                    np.logical_not(orders['visitorId'].isin(abnormalUsers)),\n",
    "                )\n",
    "            ]['revenue'],\n",
    "        )[1]\n",
    "    )\n",
    ")\n",
    "print()\n",
    "print('относительная разница между средними чеками по \"очищенным\" данным:')\n",
    "print(\n",
    "    \"{0:.3f}\".format(\n",
    "        orders[\n",
    "            np.logical_and(\n",
    "                orders['group'] == 'B',\n",
    "                np.logical_not(orders['visitorId'].isin(abnormalUsers)),\n",
    "            )\n",
    "        ]['revenue'].mean()\n",
    "        / orders[\n",
    "            np.logical_and(\n",
    "                orders['group'] == 'A',\n",
    "                np.logical_not(orders['visitorId'].isin(abnormalUsers)),\n",
    "            )\n",
    "        ]['revenue'].mean()\n",
    "        - 1\n",
    "    )\n",
    ")"
   ]
  },
  {
   "cell_type": "markdown",
   "metadata": {},
   "source": [
    "Вывод про средний чек тоже остался без изменений, нулевая гипотеза не отвергается, различия в среднем чеке нет, значение p-value стало еще больше, а средний чек группы В из победителя стал побежденным (был выше на 25%, стал ниже на 9%, т.е. аномальный чек больше 1млн вероятно в группе В)"
   ]
  },
  {
   "cell_type": "markdown",
   "metadata": {},
   "source": [
    "## Выводы"
   ]
  },
  {
   "cell_type": "markdown",
   "metadata": {},
   "source": [
    "Мы провели анализ А/В-теста: изучили среднее количество заказов на посетителя и среднюю сумму заказа в двух группах. Анализ провели на \"сырых\" данных и на \"очищеных\" (удаление выбросов не более 5%)"
   ]
  },
  {
   "cell_type": "markdown",
   "metadata": {},
   "source": [
    "При установленном уровне статистической значимости 5% и использовании критерия Манна-Уитни мы получили следующие результаты:"
   ]
  },
  {
   "cell_type": "markdown",
   "metadata": {},
   "source": [
    "- среднее количество заказов на посетителя в группе В выше, чем в группе А\n",
    "- средний чек в группах не отличается"
   ]
  },
  {
   "cell_type": "markdown",
   "metadata": {},
   "source": [
    "Рекомендуется остановить тест, признать группу В победившей."
   ]
  },
  {
   "cell_type": "markdown",
   "metadata": {},
   "source": [
    "Комментарий: при уровне статистической значимости 1% разницы в среднем количестве заказов на посетителя мы не увидим, и можно зафиксировать отсутствие различий между группами."
   ]
  }
 ],
 "metadata": {
  "ExecuteTimeLog": [
   {
    "duration": 633,
    "start_time": "2023-04-21T08:52:06.804Z"
   },
   {
    "duration": 56,
    "start_time": "2023-04-21T08:52:15.298Z"
   },
   {
    "duration": 8,
    "start_time": "2023-04-21T09:04:19.264Z"
   },
   {
    "duration": 14,
    "start_time": "2023-04-21T09:06:00.911Z"
   },
   {
    "duration": 9,
    "start_time": "2023-04-21T09:06:09.933Z"
   },
   {
    "duration": 12,
    "start_time": "2023-04-21T09:06:24.829Z"
   },
   {
    "duration": 1747,
    "start_time": "2023-04-21T09:08:12.629Z"
   },
   {
    "duration": 1268,
    "start_time": "2023-04-21T09:08:47.867Z"
   },
   {
    "duration": 17,
    "start_time": "2023-04-21T09:08:57.963Z"
   },
   {
    "duration": 1666,
    "start_time": "2023-04-21T09:09:59.114Z"
   },
   {
    "duration": 1250,
    "start_time": "2023-04-21T09:11:14.273Z"
   },
   {
    "duration": 1239,
    "start_time": "2023-04-21T09:11:39.633Z"
   },
   {
    "duration": 10,
    "start_time": "2023-04-21T09:12:18.352Z"
   },
   {
    "duration": 8,
    "start_time": "2023-04-21T09:12:37.967Z"
   },
   {
    "duration": 14,
    "start_time": "2023-04-21T09:14:29.645Z"
   },
   {
    "duration": 12,
    "start_time": "2023-04-21T09:15:44.324Z"
   },
   {
    "duration": 31,
    "start_time": "2023-04-21T09:16:17.801Z"
   },
   {
    "duration": 4,
    "start_time": "2023-04-21T09:20:49.352Z"
   },
   {
    "duration": 4,
    "start_time": "2023-04-21T09:22:12.202Z"
   },
   {
    "duration": 3,
    "start_time": "2023-04-21T09:25:19.846Z"
   },
   {
    "duration": 20,
    "start_time": "2023-04-21T09:27:21.706Z"
   },
   {
    "duration": 5,
    "start_time": "2023-04-21T09:29:43.254Z"
   },
   {
    "duration": 36,
    "start_time": "2023-04-21T09:35:00.196Z"
   },
   {
    "duration": 128,
    "start_time": "2023-04-21T10:04:16.617Z"
   },
   {
    "duration": 105,
    "start_time": "2023-04-21T10:06:28.696Z"
   },
   {
    "duration": 20,
    "start_time": "2023-04-21T10:07:19.419Z"
   },
   {
    "duration": 34,
    "start_time": "2023-04-21T10:08:48.473Z"
   },
   {
    "duration": 78,
    "start_time": "2023-04-21T10:12:49.830Z"
   },
   {
    "duration": 20,
    "start_time": "2023-04-21T10:12:54.445Z"
   },
   {
    "duration": 29,
    "start_time": "2023-04-21T11:12:40.260Z"
   },
   {
    "duration": 310,
    "start_time": "2023-04-21T11:15:19.051Z"
   },
   {
    "duration": 304,
    "start_time": "2023-04-21T11:15:45.434Z"
   },
   {
    "duration": 359,
    "start_time": "2023-04-21T11:21:53.853Z"
   },
   {
    "duration": 13,
    "start_time": "2023-04-21T11:22:28.971Z"
   },
   {
    "duration": 491,
    "start_time": "2023-04-21T11:25:02.641Z"
   },
   {
    "duration": 802,
    "start_time": "2023-04-21T11:26:22.728Z"
   },
   {
    "duration": 214,
    "start_time": "2023-04-21T11:28:25.602Z"
   },
   {
    "duration": 259,
    "start_time": "2023-04-21T11:29:03.009Z"
   },
   {
    "duration": 225,
    "start_time": "2023-04-21T11:29:25.565Z"
   },
   {
    "duration": 136,
    "start_time": "2023-04-21T12:27:23.129Z"
   },
   {
    "duration": 3,
    "start_time": "2023-04-21T12:31:52.196Z"
   },
   {
    "duration": 206,
    "start_time": "2023-04-21T12:32:38.260Z"
   },
   {
    "duration": 367,
    "start_time": "2023-04-21T12:43:41.506Z"
   },
   {
    "duration": 1494,
    "start_time": "2023-04-21T13:01:25.343Z"
   },
   {
    "duration": 11,
    "start_time": "2023-04-21T13:02:16.143Z"
   },
   {
    "duration": 9,
    "start_time": "2023-04-21T13:02:48.846Z"
   },
   {
    "duration": 11,
    "start_time": "2023-04-21T13:04:47.300Z"
   },
   {
    "duration": 219,
    "start_time": "2023-04-21T13:07:44.914Z"
   },
   {
    "duration": 238,
    "start_time": "2023-04-21T13:07:49.834Z"
   },
   {
    "duration": 286,
    "start_time": "2023-04-21T13:07:53.586Z"
   },
   {
    "duration": 20,
    "start_time": "2023-04-21T13:07:55.669Z"
   },
   {
    "duration": 238,
    "start_time": "2023-04-21T13:07:57.409Z"
   },
   {
    "duration": 496,
    "start_time": "2023-04-23T05:05:12.756Z"
   },
   {
    "duration": 11,
    "start_time": "2023-04-23T05:05:13.253Z"
   },
   {
    "duration": 4,
    "start_time": "2023-04-23T05:05:13.355Z"
   },
   {
    "duration": 11,
    "start_time": "2023-04-23T05:05:13.699Z"
   },
   {
    "duration": 3,
    "start_time": "2023-04-23T05:05:13.883Z"
   },
   {
    "duration": 2,
    "start_time": "2023-04-23T05:05:14.682Z"
   },
   {
    "duration": 143,
    "start_time": "2023-04-23T05:05:14.875Z"
   },
   {
    "duration": 18,
    "start_time": "2023-04-23T05:05:15.066Z"
   },
   {
    "duration": 6,
    "start_time": "2023-04-23T05:05:15.242Z"
   },
   {
    "duration": 278,
    "start_time": "2023-04-23T05:05:15.427Z"
   },
   {
    "duration": 10,
    "start_time": "2023-04-23T05:05:15.707Z"
   },
   {
    "duration": 620,
    "start_time": "2023-04-23T05:05:16.147Z"
   },
   {
    "duration": 173,
    "start_time": "2023-04-23T05:05:16.768Z"
   },
   {
    "duration": 303,
    "start_time": "2023-04-23T05:05:17.338Z"
   },
   {
    "duration": 10,
    "start_time": "2023-04-23T05:05:17.970Z"
   },
   {
    "duration": 274,
    "start_time": "2023-04-23T05:05:18.170Z"
   },
   {
    "duration": 239,
    "start_time": "2023-04-23T05:05:22.714Z"
   },
   {
    "duration": 297,
    "start_time": "2023-04-23T05:05:58.474Z"
   },
   {
    "duration": 7,
    "start_time": "2023-04-23T05:23:56.664Z"
   },
   {
    "duration": 7,
    "start_time": "2023-04-23T05:26:16.829Z"
   },
   {
    "duration": 31,
    "start_time": "2023-04-23T05:28:40.892Z"
   },
   {
    "duration": 11,
    "start_time": "2023-04-23T05:28:41.355Z"
   },
   {
    "duration": 3,
    "start_time": "2023-04-23T05:28:41.587Z"
   },
   {
    "duration": 12,
    "start_time": "2023-04-23T05:28:42.059Z"
   },
   {
    "duration": 4,
    "start_time": "2023-04-23T05:28:42.275Z"
   },
   {
    "duration": 3,
    "start_time": "2023-04-23T05:28:43.075Z"
   },
   {
    "duration": 69,
    "start_time": "2023-04-23T05:28:43.259Z"
   },
   {
    "duration": 19,
    "start_time": "2023-04-23T05:28:43.451Z"
   },
   {
    "duration": 7,
    "start_time": "2023-04-23T05:28:43.627Z"
   },
   {
    "duration": 348,
    "start_time": "2023-04-23T05:28:43.827Z"
   },
   {
    "duration": 14,
    "start_time": "2023-04-23T05:28:44.177Z"
   },
   {
    "duration": 6,
    "start_time": "2023-04-23T05:28:44.202Z"
   },
   {
    "duration": 6,
    "start_time": "2023-04-23T05:28:44.403Z"
   },
   {
    "duration": 183,
    "start_time": "2023-04-23T05:28:45.059Z"
   },
   {
    "duration": 176,
    "start_time": "2023-04-23T05:28:45.723Z"
   },
   {
    "duration": 329,
    "start_time": "2023-04-23T05:28:46.363Z"
   },
   {
    "duration": 9,
    "start_time": "2023-04-23T05:28:47.011Z"
   },
   {
    "duration": 191,
    "start_time": "2023-04-23T05:28:47.235Z"
   },
   {
    "duration": 234,
    "start_time": "2023-04-23T05:28:48.731Z"
   },
   {
    "duration": 8,
    "start_time": "2023-04-23T05:34:21.733Z"
   },
   {
    "duration": 30,
    "start_time": "2023-04-23T05:34:40.901Z"
   },
   {
    "duration": 10,
    "start_time": "2023-04-23T05:34:41.238Z"
   },
   {
    "duration": 4,
    "start_time": "2023-04-23T05:34:41.409Z"
   },
   {
    "duration": 11,
    "start_time": "2023-04-23T05:34:41.933Z"
   },
   {
    "duration": 4,
    "start_time": "2023-04-23T05:34:42.101Z"
   },
   {
    "duration": 3,
    "start_time": "2023-04-23T05:34:42.853Z"
   },
   {
    "duration": 70,
    "start_time": "2023-04-23T05:34:43.053Z"
   },
   {
    "duration": 17,
    "start_time": "2023-04-23T05:34:43.245Z"
   },
   {
    "duration": 5,
    "start_time": "2023-04-23T05:34:43.445Z"
   },
   {
    "duration": 260,
    "start_time": "2023-04-23T05:34:43.637Z"
   },
   {
    "duration": 12,
    "start_time": "2023-04-23T05:34:43.899Z"
   },
   {
    "duration": 9,
    "start_time": "2023-04-23T05:34:44.022Z"
   },
   {
    "duration": 7,
    "start_time": "2023-04-23T05:34:44.221Z"
   },
   {
    "duration": 177,
    "start_time": "2023-04-23T05:34:44.909Z"
   },
   {
    "duration": 177,
    "start_time": "2023-04-23T05:34:45.693Z"
   },
   {
    "duration": 312,
    "start_time": "2023-04-23T05:34:46.757Z"
   },
   {
    "duration": 11,
    "start_time": "2023-04-23T05:34:47.365Z"
   },
   {
    "duration": 265,
    "start_time": "2023-04-23T05:34:47.581Z"
   },
   {
    "duration": 8,
    "start_time": "2023-04-23T05:36:24.628Z"
   },
   {
    "duration": 394,
    "start_time": "2023-04-23T05:43:59.140Z"
   },
   {
    "duration": 18,
    "start_time": "2023-04-23T05:44:00.997Z"
   },
   {
    "duration": 3,
    "start_time": "2023-04-23T05:44:01.309Z"
   },
   {
    "duration": 16,
    "start_time": "2023-04-23T05:44:01.829Z"
   },
   {
    "duration": 5,
    "start_time": "2023-04-23T05:44:02.148Z"
   },
   {
    "duration": 3,
    "start_time": "2023-04-23T05:44:03.372Z"
   },
   {
    "duration": 70,
    "start_time": "2023-04-23T05:44:03.612Z"
   },
   {
    "duration": 17,
    "start_time": "2023-04-23T05:44:03.948Z"
   },
   {
    "duration": 6,
    "start_time": "2023-04-23T05:44:04.331Z"
   },
   {
    "duration": 298,
    "start_time": "2023-04-23T05:44:04.724Z"
   },
   {
    "duration": 14,
    "start_time": "2023-04-23T05:44:05.023Z"
   },
   {
    "duration": 7,
    "start_time": "2023-04-23T05:44:05.347Z"
   },
   {
    "duration": 8,
    "start_time": "2023-04-23T05:44:05.763Z"
   },
   {
    "duration": 6,
    "start_time": "2023-04-23T05:44:06.148Z"
   },
   {
    "duration": 9,
    "start_time": "2023-04-23T05:44:06.516Z"
   },
   {
    "duration": 508,
    "start_time": "2023-04-23T05:44:07.924Z"
   },
   {
    "duration": 173,
    "start_time": "2023-04-23T05:44:52.652Z"
   },
   {
    "duration": 284,
    "start_time": "2023-04-23T05:45:44.763Z"
   },
   {
    "duration": 228,
    "start_time": "2023-04-23T05:46:28.514Z"
   },
   {
    "duration": 243,
    "start_time": "2023-04-23T05:47:19.130Z"
   },
   {
    "duration": 10,
    "start_time": "2023-04-23T05:58:12.454Z"
   },
   {
    "duration": 23,
    "start_time": "2023-04-23T05:59:12.614Z"
   },
   {
    "duration": 20,
    "start_time": "2023-04-23T05:59:16.277Z"
   },
   {
    "duration": 7,
    "start_time": "2023-04-23T06:03:40.545Z"
   },
   {
    "duration": 8,
    "start_time": "2023-04-23T06:04:07.945Z"
   },
   {
    "duration": 2,
    "start_time": "2023-04-23T06:04:41.265Z"
   },
   {
    "duration": 73,
    "start_time": "2023-04-23T06:17:34.267Z"
   },
   {
    "duration": 8,
    "start_time": "2023-04-23T06:17:48.460Z"
   },
   {
    "duration": 166,
    "start_time": "2023-04-23T06:19:06.489Z"
   },
   {
    "duration": 120,
    "start_time": "2023-04-23T06:19:53.793Z"
   },
   {
    "duration": 8,
    "start_time": "2023-04-23T06:21:39.759Z"
   },
   {
    "duration": 11,
    "start_time": "2023-04-23T06:21:51.823Z"
   },
   {
    "duration": 11,
    "start_time": "2023-04-23T06:25:34.882Z"
   },
   {
    "duration": 9,
    "start_time": "2023-04-23T06:25:43.588Z"
   },
   {
    "duration": 4,
    "start_time": "2023-04-23T06:31:19.238Z"
   },
   {
    "duration": 143,
    "start_time": "2023-04-23T06:42:02.091Z"
   },
   {
    "duration": 136,
    "start_time": "2023-04-23T07:55:13.797Z"
   },
   {
    "duration": 14,
    "start_time": "2023-04-23T07:58:09.979Z"
   },
   {
    "duration": 18,
    "start_time": "2023-04-23T07:58:20.892Z"
   },
   {
    "duration": 12,
    "start_time": "2023-04-23T07:58:35.762Z"
   },
   {
    "duration": 8,
    "start_time": "2023-04-23T07:58:59.113Z"
   },
   {
    "duration": 10,
    "start_time": "2023-04-23T07:59:06.329Z"
   },
   {
    "duration": 4,
    "start_time": "2023-04-23T08:03:03.805Z"
   },
   {
    "duration": 8,
    "start_time": "2023-04-23T08:03:14.533Z"
   },
   {
    "duration": 130,
    "start_time": "2023-04-23T08:05:30.428Z"
   },
   {
    "duration": 238,
    "start_time": "2023-04-23T08:08:40.249Z"
   },
   {
    "duration": 250,
    "start_time": "2023-04-23T08:09:00.512Z"
   },
   {
    "duration": 266,
    "start_time": "2023-04-23T08:09:23.783Z"
   },
   {
    "duration": 250,
    "start_time": "2023-04-23T08:12:28.365Z"
   },
   {
    "duration": 314,
    "start_time": "2023-04-23T08:12:37.828Z"
   },
   {
    "duration": 281,
    "start_time": "2023-04-23T08:13:14.062Z"
   },
   {
    "duration": 227,
    "start_time": "2023-04-23T08:14:05.828Z"
   },
   {
    "duration": 291,
    "start_time": "2023-04-23T08:14:14.182Z"
   },
   {
    "duration": 249,
    "start_time": "2023-04-23T08:14:25.058Z"
   },
   {
    "duration": 248,
    "start_time": "2023-04-23T08:15:00.825Z"
   },
   {
    "duration": 262,
    "start_time": "2023-04-23T08:15:13.818Z"
   },
   {
    "duration": 257,
    "start_time": "2023-04-23T08:15:32.600Z"
   },
   {
    "duration": 278,
    "start_time": "2023-04-23T08:15:47.833Z"
   },
   {
    "duration": 253,
    "start_time": "2023-04-23T08:16:17.299Z"
   },
   {
    "duration": 280,
    "start_time": "2023-04-23T08:16:27.569Z"
   },
   {
    "duration": 237,
    "start_time": "2023-04-23T08:17:06.224Z"
   },
   {
    "duration": 208,
    "start_time": "2023-04-23T08:17:15.136Z"
   },
   {
    "duration": 356,
    "start_time": "2023-04-23T08:18:39.582Z"
   },
   {
    "duration": 266,
    "start_time": "2023-04-23T08:19:04.669Z"
   },
   {
    "duration": 265,
    "start_time": "2023-04-23T08:19:36.485Z"
   },
   {
    "duration": 243,
    "start_time": "2023-04-23T08:22:32.315Z"
   },
   {
    "duration": 274,
    "start_time": "2023-04-23T08:22:55.995Z"
   },
   {
    "duration": 284,
    "start_time": "2023-04-23T08:23:03.290Z"
   },
   {
    "duration": 212,
    "start_time": "2023-04-23T08:23:31.330Z"
   },
   {
    "duration": 204,
    "start_time": "2023-04-23T08:23:59.121Z"
   },
   {
    "duration": 217,
    "start_time": "2023-04-23T08:24:40.034Z"
   },
   {
    "duration": 267,
    "start_time": "2023-04-23T08:24:50.225Z"
   },
   {
    "duration": 236,
    "start_time": "2023-04-23T08:25:05.728Z"
   },
   {
    "duration": 9,
    "start_time": "2023-04-23T08:27:52.142Z"
   },
   {
    "duration": 9,
    "start_time": "2023-04-23T08:28:09.214Z"
   },
   {
    "duration": 276,
    "start_time": "2023-04-23T08:31:09.971Z"
   },
   {
    "duration": 243,
    "start_time": "2023-04-23T08:31:26.610Z"
   },
   {
    "duration": 483,
    "start_time": "2023-04-24T08:08:32.567Z"
   },
   {
    "duration": 12,
    "start_time": "2023-04-24T08:08:33.052Z"
   },
   {
    "duration": 3,
    "start_time": "2023-04-24T08:08:33.213Z"
   },
   {
    "duration": 11,
    "start_time": "2023-04-24T08:08:33.565Z"
   },
   {
    "duration": 4,
    "start_time": "2023-04-24T08:08:33.756Z"
   },
   {
    "duration": 2,
    "start_time": "2023-04-24T08:08:35.052Z"
   },
   {
    "duration": 163,
    "start_time": "2023-04-24T08:08:35.238Z"
   },
   {
    "duration": 18,
    "start_time": "2023-04-24T08:08:35.420Z"
   },
   {
    "duration": 16,
    "start_time": "2023-04-24T08:08:35.620Z"
   },
   {
    "duration": 3,
    "start_time": "2023-04-24T08:08:35.803Z"
   },
   {
    "duration": 2,
    "start_time": "2023-04-24T08:08:35.980Z"
   },
   {
    "duration": 6,
    "start_time": "2023-04-24T08:08:36.148Z"
   },
   {
    "duration": 398,
    "start_time": "2023-04-24T08:08:36.341Z"
   },
   {
    "duration": 19,
    "start_time": "2023-04-24T08:08:36.742Z"
   },
   {
    "duration": 7,
    "start_time": "2023-04-24T08:08:36.763Z"
   },
   {
    "duration": 10,
    "start_time": "2023-04-24T08:08:36.883Z"
   },
   {
    "duration": 7,
    "start_time": "2023-04-24T08:08:37.076Z"
   },
   {
    "duration": 14,
    "start_time": "2023-04-24T08:08:37.261Z"
   },
   {
    "duration": 612,
    "start_time": "2023-04-24T08:08:37.797Z"
   },
   {
    "duration": 179,
    "start_time": "2023-04-24T08:08:38.412Z"
   },
   {
    "duration": 292,
    "start_time": "2023-04-24T08:08:38.908Z"
   },
   {
    "duration": 234,
    "start_time": "2023-04-24T08:08:39.474Z"
   },
   {
    "duration": 268,
    "start_time": "2023-04-24T08:08:40.012Z"
   },
   {
    "duration": 14,
    "start_time": "2023-04-24T08:08:40.572Z"
   },
   {
    "duration": 111,
    "start_time": "2023-04-24T08:08:40.764Z"
   },
   {
    "duration": 110,
    "start_time": "2023-04-24T08:08:41.149Z"
   },
   {
    "duration": 5,
    "start_time": "2023-04-24T08:08:41.684Z"
   },
   {
    "duration": 10,
    "start_time": "2023-04-24T08:08:42.740Z"
   },
   {
    "duration": 108,
    "start_time": "2023-04-24T08:08:42.941Z"
   },
   {
    "duration": 126,
    "start_time": "2023-04-24T08:08:43.140Z"
   },
   {
    "duration": 277,
    "start_time": "2023-04-24T08:08:43.532Z"
   },
   {
    "duration": 5,
    "start_time": "2023-04-24T08:08:43.909Z"
   },
   {
    "duration": 226,
    "start_time": "2023-04-24T08:19:24.974Z"
   },
   {
    "duration": 207,
    "start_time": "2023-04-24T08:19:37.002Z"
   },
   {
    "duration": 204,
    "start_time": "2023-04-24T08:19:43.602Z"
   },
   {
    "duration": 201,
    "start_time": "2023-04-24T08:19:48.706Z"
   },
   {
    "duration": 17,
    "start_time": "2023-04-24T08:20:07.754Z"
   },
   {
    "duration": 11,
    "start_time": "2023-04-24T08:20:16.842Z"
   },
   {
    "duration": 9,
    "start_time": "2023-04-24T08:20:44.545Z"
   },
   {
    "duration": 8,
    "start_time": "2023-04-24T08:22:10.416Z"
   },
   {
    "duration": 3,
    "start_time": "2023-04-24T08:24:44.189Z"
   },
   {
    "duration": 7,
    "start_time": "2023-04-24T08:30:25.409Z"
   },
   {
    "duration": 9,
    "start_time": "2023-04-24T08:30:28.624Z"
   },
   {
    "duration": 3,
    "start_time": "2023-04-24T08:41:29.429Z"
   },
   {
    "duration": 2,
    "start_time": "2023-04-24T08:41:32.694Z"
   },
   {
    "duration": 11,
    "start_time": "2023-04-24T08:45:48.714Z"
   },
   {
    "duration": 5,
    "start_time": "2023-04-24T08:46:33.849Z"
   },
   {
    "duration": 6,
    "start_time": "2023-04-24T08:48:09.640Z"
   },
   {
    "duration": 101,
    "start_time": "2023-04-24T08:51:24.325Z"
   },
   {
    "duration": 16,
    "start_time": "2023-04-24T08:52:04.358Z"
   },
   {
    "duration": 82,
    "start_time": "2023-04-24T08:52:31.493Z"
   },
   {
    "duration": 16,
    "start_time": "2023-04-24T08:54:35.461Z"
   },
   {
    "duration": 8,
    "start_time": "2023-04-24T09:14:18.194Z"
   },
   {
    "duration": 7,
    "start_time": "2023-04-24T09:17:11.274Z"
   },
   {
    "duration": 7,
    "start_time": "2023-04-24T09:17:41.512Z"
   },
   {
    "duration": 6,
    "start_time": "2023-04-24T09:24:39.195Z"
   },
   {
    "duration": 10,
    "start_time": "2023-04-24T09:24:56.226Z"
   },
   {
    "duration": 14,
    "start_time": "2023-04-24T09:28:13.415Z"
   },
   {
    "duration": 154,
    "start_time": "2023-04-24T09:29:26.087Z"
   },
   {
    "duration": 732,
    "start_time": "2023-04-24T09:32:07.391Z"
   },
   {
    "duration": 2,
    "start_time": "2023-04-24T09:37:37.671Z"
   },
   {
    "duration": 6,
    "start_time": "2023-04-24T09:41:10.165Z"
   },
   {
    "duration": 7,
    "start_time": "2023-04-24T09:41:34.332Z"
   },
   {
    "duration": 6,
    "start_time": "2023-04-24T09:45:25.937Z"
   },
   {
    "duration": 6,
    "start_time": "2023-04-24T09:53:09.827Z"
   },
   {
    "duration": 8,
    "start_time": "2023-04-24T09:57:14.311Z"
   },
   {
    "duration": 9,
    "start_time": "2023-04-24T09:57:14.847Z"
   },
   {
    "duration": 130,
    "start_time": "2023-04-24T09:57:25.062Z"
   },
   {
    "duration": 6,
    "start_time": "2023-04-24T09:57:33.526Z"
   },
   {
    "duration": 7,
    "start_time": "2023-04-24T10:00:20.772Z"
   },
   {
    "duration": 439,
    "start_time": "2023-04-24T10:00:51.138Z"
   },
   {
    "duration": 993,
    "start_time": "2023-04-24T10:01:01.795Z"
   },
   {
    "duration": 37,
    "start_time": "2023-04-24T10:01:03.707Z"
   },
   {
    "duration": 11,
    "start_time": "2023-04-24T10:01:04.099Z"
   },
   {
    "duration": 4,
    "start_time": "2023-04-24T10:01:04.275Z"
   },
   {
    "duration": 10,
    "start_time": "2023-04-24T10:01:04.627Z"
   },
   {
    "duration": 3,
    "start_time": "2023-04-24T10:01:04.803Z"
   },
   {
    "duration": 76,
    "start_time": "2023-04-24T10:01:06.027Z"
   },
   {
    "duration": 16,
    "start_time": "2023-04-24T10:01:06.195Z"
   },
   {
    "duration": 15,
    "start_time": "2023-04-24T10:01:06.371Z"
   },
   {
    "duration": 3,
    "start_time": "2023-04-24T10:01:06.538Z"
   },
   {
    "duration": 2,
    "start_time": "2023-04-24T10:01:06.714Z"
   },
   {
    "duration": 5,
    "start_time": "2023-04-24T10:01:06.899Z"
   },
   {
    "duration": 251,
    "start_time": "2023-04-24T10:01:07.075Z"
   },
   {
    "duration": 12,
    "start_time": "2023-04-24T10:01:07.328Z"
   },
   {
    "duration": 7,
    "start_time": "2023-04-24T10:01:07.402Z"
   },
   {
    "duration": 7,
    "start_time": "2023-04-24T10:01:07.571Z"
   },
   {
    "duration": 6,
    "start_time": "2023-04-24T10:01:07.730Z"
   },
   {
    "duration": 9,
    "start_time": "2023-04-24T10:01:07.898Z"
   },
   {
    "duration": 234,
    "start_time": "2023-04-24T10:01:08.402Z"
   },
   {
    "duration": 183,
    "start_time": "2023-04-24T10:01:08.915Z"
   },
   {
    "duration": 264,
    "start_time": "2023-04-24T10:01:09.411Z"
   },
   {
    "duration": 188,
    "start_time": "2023-04-24T10:01:09.907Z"
   },
   {
    "duration": 248,
    "start_time": "2023-04-24T10:01:10.386Z"
   },
   {
    "duration": 12,
    "start_time": "2023-04-24T10:01:10.867Z"
   },
   {
    "duration": 113,
    "start_time": "2023-04-24T10:01:11.034Z"
   },
   {
    "duration": 123,
    "start_time": "2023-04-24T10:01:11.346Z"
   },
   {
    "duration": 4,
    "start_time": "2023-04-24T10:01:11.803Z"
   },
   {
    "duration": 8,
    "start_time": "2023-04-24T10:01:12.283Z"
   },
   {
    "duration": 99,
    "start_time": "2023-04-24T10:01:12.626Z"
   },
   {
    "duration": 186,
    "start_time": "2023-04-24T10:01:12.795Z"
   },
   {
    "duration": 239,
    "start_time": "2023-04-24T10:01:13.138Z"
   },
   {
    "duration": 4,
    "start_time": "2023-04-24T10:01:13.515Z"
   },
   {
    "duration": 2,
    "start_time": "2023-04-24T10:01:14.178Z"
   },
   {
    "duration": 14,
    "start_time": "2023-04-24T10:01:14.491Z"
   },
   {
    "duration": 30,
    "start_time": "2023-04-24T10:01:14.651Z"
   },
   {
    "duration": 8,
    "start_time": "2023-04-24T10:01:15.011Z"
   },
   {
    "duration": 6,
    "start_time": "2023-04-24T10:01:15.187Z"
   },
   {
    "duration": 10,
    "start_time": "2023-04-24T10:01:15.396Z"
   },
   {
    "duration": 129,
    "start_time": "2023-04-24T10:01:15.571Z"
   },
   {
    "duration": 7,
    "start_time": "2023-04-24T10:01:15.755Z"
   },
   {
    "duration": 23,
    "start_time": "2023-04-24T10:01:15.923Z"
   },
   {
    "duration": 848,
    "start_time": "2023-04-24T10:19:40.274Z"
   },
   {
    "duration": 9,
    "start_time": "2023-04-24T10:21:16.702Z"
   },
   {
    "duration": 8,
    "start_time": "2023-04-24T10:22:31.190Z"
   },
   {
    "duration": 10,
    "start_time": "2023-04-24T10:22:45.740Z"
   },
   {
    "duration": 9,
    "start_time": "2023-04-24T10:28:44.422Z"
   },
   {
    "duration": 2,
    "start_time": "2023-04-24T10:33:33.537Z"
   },
   {
    "duration": 7,
    "start_time": "2023-04-24T10:44:10.383Z"
   },
   {
    "duration": 7,
    "start_time": "2023-04-24T10:48:26.530Z"
   },
   {
    "duration": 23,
    "start_time": "2023-04-24T10:50:14.401Z"
   },
   {
    "duration": 7,
    "start_time": "2023-04-24T11:36:51.791Z"
   },
   {
    "duration": 23,
    "start_time": "2023-04-24T11:36:52.191Z"
   },
   {
    "duration": 771,
    "start_time": "2023-04-24T11:43:50.232Z"
   },
   {
    "duration": 16,
    "start_time": "2023-04-24T11:44:32.128Z"
   },
   {
    "duration": 44,
    "start_time": "2023-04-24T12:16:47.602Z"
   },
   {
    "duration": 260,
    "start_time": "2023-04-24T12:32:13.876Z"
   },
   {
    "duration": 211,
    "start_time": "2023-04-24T12:32:49.091Z"
   },
   {
    "duration": 184,
    "start_time": "2023-04-24T12:33:04.420Z"
   },
   {
    "duration": 23,
    "start_time": "2023-04-24T12:37:27.973Z"
   },
   {
    "duration": 7,
    "start_time": "2023-04-24T12:42:43.835Z"
   },
   {
    "duration": 5,
    "start_time": "2023-04-24T12:43:47.234Z"
   },
   {
    "duration": 6,
    "start_time": "2023-04-24T12:49:16.542Z"
   },
   {
    "duration": 10,
    "start_time": "2023-04-24T13:03:42.025Z"
   },
   {
    "duration": 9,
    "start_time": "2023-04-24T13:03:44.782Z"
   },
   {
    "duration": 24,
    "start_time": "2023-04-24T13:03:45.183Z"
   },
   {
    "duration": 16,
    "start_time": "2023-04-24T13:03:45.888Z"
   },
   {
    "duration": 4,
    "start_time": "2023-04-24T13:15:48.095Z"
   },
   {
    "duration": 37,
    "start_time": "2023-04-24T13:15:48.495Z"
   },
   {
    "duration": 12,
    "start_time": "2023-04-24T13:15:48.806Z"
   },
   {
    "duration": 5,
    "start_time": "2023-04-24T13:15:48.994Z"
   },
   {
    "duration": 15,
    "start_time": "2023-04-24T13:15:49.302Z"
   },
   {
    "duration": 5,
    "start_time": "2023-04-24T13:15:49.498Z"
   },
   {
    "duration": 97,
    "start_time": "2023-04-24T13:15:50.847Z"
   },
   {
    "duration": 20,
    "start_time": "2023-04-24T13:15:51.014Z"
   },
   {
    "duration": 25,
    "start_time": "2023-04-24T13:15:51.194Z"
   },
   {
    "duration": 10,
    "start_time": "2023-04-24T13:15:51.356Z"
   },
   {
    "duration": 323,
    "start_time": "2023-04-24T13:15:51.534Z"
   },
   {
    "duration": 25,
    "start_time": "2023-04-24T13:15:51.860Z"
   },
   {
    "duration": 13,
    "start_time": "2023-04-24T13:15:51.895Z"
   },
   {
    "duration": 9,
    "start_time": "2023-04-24T13:15:52.045Z"
   },
   {
    "duration": 12,
    "start_time": "2023-04-24T13:15:52.221Z"
   },
   {
    "duration": 15,
    "start_time": "2023-04-24T13:15:52.416Z"
   },
   {
    "duration": 278,
    "start_time": "2023-04-24T13:15:52.934Z"
   },
   {
    "duration": 338,
    "start_time": "2023-04-24T13:15:53.458Z"
   },
   {
    "duration": 405,
    "start_time": "2023-04-24T13:15:54.025Z"
   },
   {
    "duration": 305,
    "start_time": "2023-04-24T13:15:54.549Z"
   },
   {
    "duration": 278,
    "start_time": "2023-04-24T13:15:55.094Z"
   },
   {
    "duration": 16,
    "start_time": "2023-04-24T13:15:55.691Z"
   },
   {
    "duration": 178,
    "start_time": "2023-04-24T13:15:55.885Z"
   },
   {
    "duration": 146,
    "start_time": "2023-04-24T13:15:56.237Z"
   },
   {
    "duration": 5,
    "start_time": "2023-04-24T13:15:56.814Z"
   },
   {
    "duration": 11,
    "start_time": "2023-04-24T13:15:57.385Z"
   },
   {
    "duration": 161,
    "start_time": "2023-04-24T13:15:57.765Z"
   },
   {
    "duration": 265,
    "start_time": "2023-04-24T13:15:58.126Z"
   },
   {
    "duration": 207,
    "start_time": "2023-04-24T13:15:58.517Z"
   },
   {
    "duration": 6,
    "start_time": "2023-04-24T13:15:58.887Z"
   },
   {
    "duration": 19,
    "start_time": "2023-04-24T13:15:59.607Z"
   },
   {
    "duration": 38,
    "start_time": "2023-04-24T13:15:59.807Z"
   },
   {
    "duration": 9,
    "start_time": "2023-04-24T13:15:59.997Z"
   },
   {
    "duration": 10,
    "start_time": "2023-04-24T13:16:00.389Z"
   },
   {
    "duration": 19,
    "start_time": "2023-04-24T13:16:00.596Z"
   },
   {
    "duration": 202,
    "start_time": "2023-04-24T13:16:00.792Z"
   },
   {
    "duration": 8,
    "start_time": "2023-04-24T13:16:00.997Z"
   },
   {
    "duration": 21,
    "start_time": "2023-04-24T13:16:01.333Z"
   },
   {
    "duration": 18,
    "start_time": "2023-04-24T13:16:02.124Z"
   },
   {
    "duration": 11,
    "start_time": "2023-04-24T13:16:02.933Z"
   },
   {
    "duration": 8,
    "start_time": "2023-04-24T13:16:03.317Z"
   },
   {
    "duration": 28,
    "start_time": "2023-04-24T13:16:03.709Z"
   },
   {
    "duration": 28,
    "start_time": "2023-04-24T13:16:04.853Z"
   },
   {
    "duration": 1289,
    "start_time": "2023-04-25T14:39:24.172Z"
   },
   {
    "duration": 93,
    "start_time": "2023-04-25T14:39:29.085Z"
   },
   {
    "duration": 1196,
    "start_time": "2023-04-26T06:34:32.913Z"
   },
   {
    "duration": 82,
    "start_time": "2023-04-26T06:34:34.111Z"
   },
   {
    "duration": 10,
    "start_time": "2023-04-26T06:34:34.985Z"
   },
   {
    "duration": 5,
    "start_time": "2023-04-26T06:34:35.978Z"
   },
   {
    "duration": 11,
    "start_time": "2023-04-26T06:34:37.667Z"
   },
   {
    "duration": 3,
    "start_time": "2023-04-26T06:34:39.715Z"
   },
   {
    "duration": 10,
    "start_time": "2023-04-26T06:34:59.067Z"
   },
   {
    "duration": 9,
    "start_time": "2023-04-26T06:35:14.459Z"
   },
   {
    "duration": 9,
    "start_time": "2023-04-26T06:35:31.675Z"
   },
   {
    "duration": 1053,
    "start_time": "2023-04-26T07:11:00.846Z"
   },
   {
    "duration": 36,
    "start_time": "2023-04-26T07:11:04.854Z"
   },
   {
    "duration": 10,
    "start_time": "2023-04-26T07:11:06.895Z"
   },
   {
    "duration": 4,
    "start_time": "2023-04-26T07:11:08.719Z"
   },
   {
    "duration": 10,
    "start_time": "2023-04-26T07:11:11.191Z"
   },
   {
    "duration": 3,
    "start_time": "2023-04-26T07:11:12.031Z"
   },
   {
    "duration": 174,
    "start_time": "2023-04-26T07:11:19.262Z"
   },
   {
    "duration": 18,
    "start_time": "2023-04-26T07:11:21.070Z"
   },
   {
    "duration": 14,
    "start_time": "2023-04-26T07:11:23.574Z"
   },
   {
    "duration": 6,
    "start_time": "2023-04-26T07:21:12.173Z"
   },
   {
    "duration": 6,
    "start_time": "2023-04-26T07:22:06.005Z"
   },
   {
    "duration": 6,
    "start_time": "2023-04-26T07:23:03.556Z"
   },
   {
    "duration": 5,
    "start_time": "2023-04-26T07:33:33.881Z"
   },
   {
    "duration": 5,
    "start_time": "2023-04-26T07:36:19.110Z"
   },
   {
    "duration": 105,
    "start_time": "2023-04-26T07:36:45.951Z"
   },
   {
    "duration": 12,
    "start_time": "2023-04-26T07:36:56.302Z"
   },
   {
    "duration": 5,
    "start_time": "2023-04-26T07:37:55.822Z"
   },
   {
    "duration": 6,
    "start_time": "2023-04-26T07:41:01.043Z"
   },
   {
    "duration": 7,
    "start_time": "2023-04-26T07:41:12.576Z"
   },
   {
    "duration": 6,
    "start_time": "2023-04-26T07:41:19.811Z"
   },
   {
    "duration": 5,
    "start_time": "2023-04-26T07:41:30.388Z"
   },
   {
    "duration": 9,
    "start_time": "2023-04-26T07:42:31.906Z"
   },
   {
    "duration": 11,
    "start_time": "2023-04-26T07:45:07.903Z"
   },
   {
    "duration": 10,
    "start_time": "2023-04-26T07:45:33.606Z"
   },
   {
    "duration": 14,
    "start_time": "2023-04-26T07:46:05.975Z"
   },
   {
    "duration": 7,
    "start_time": "2023-04-26T07:51:06.170Z"
   },
   {
    "duration": 5,
    "start_time": "2023-04-26T07:51:57.102Z"
   },
   {
    "duration": 11,
    "start_time": "2023-04-26T07:53:03.265Z"
   },
   {
    "duration": 13,
    "start_time": "2023-04-26T07:53:21.336Z"
   },
   {
    "duration": 13,
    "start_time": "2023-04-26T07:53:42.728Z"
   },
   {
    "duration": 10,
    "start_time": "2023-04-26T07:56:29.765Z"
   },
   {
    "duration": 22,
    "start_time": "2023-04-26T07:56:50.236Z"
   },
   {
    "duration": 12,
    "start_time": "2023-04-26T07:58:54.634Z"
   },
   {
    "duration": 10,
    "start_time": "2023-04-26T07:59:22.521Z"
   },
   {
    "duration": 9,
    "start_time": "2023-04-26T07:59:44.369Z"
   },
   {
    "duration": 10,
    "start_time": "2023-04-26T08:00:25.692Z"
   },
   {
    "duration": 9,
    "start_time": "2023-04-26T08:01:23.184Z"
   },
   {
    "duration": 11,
    "start_time": "2023-04-26T08:03:17.974Z"
   },
   {
    "duration": 11,
    "start_time": "2023-04-26T08:07:31.355Z"
   },
   {
    "duration": 19,
    "start_time": "2023-04-26T08:12:32.454Z"
   },
   {
    "duration": 16,
    "start_time": "2023-04-26T08:42:53.455Z"
   },
   {
    "duration": 8,
    "start_time": "2023-04-26T08:47:41.177Z"
   },
   {
    "duration": 1030,
    "start_time": "2023-04-26T08:47:56.168Z"
   },
   {
    "duration": 39,
    "start_time": "2023-04-26T08:47:59.423Z"
   },
   {
    "duration": 11,
    "start_time": "2023-04-26T08:48:01.288Z"
   },
   {
    "duration": 3,
    "start_time": "2023-04-26T08:48:02.888Z"
   },
   {
    "duration": 10,
    "start_time": "2023-04-26T08:48:04.696Z"
   },
   {
    "duration": 3,
    "start_time": "2023-04-26T08:48:05.152Z"
   },
   {
    "duration": 70,
    "start_time": "2023-04-26T08:48:09.832Z"
   },
   {
    "duration": 17,
    "start_time": "2023-04-26T08:48:10.231Z"
   },
   {
    "duration": 13,
    "start_time": "2023-04-26T08:48:10.736Z"
   },
   {
    "duration": 6,
    "start_time": "2023-04-26T08:48:11.323Z"
   },
   {
    "duration": 17,
    "start_time": "2023-04-26T08:48:12.464Z"
   },
   {
    "duration": 13,
    "start_time": "2023-04-26T08:48:14.727Z"
   },
   {
    "duration": 5,
    "start_time": "2023-04-26T08:48:18.831Z"
   },
   {
    "duration": 236,
    "start_time": "2023-04-26T08:48:19.207Z"
   },
   {
    "duration": 11,
    "start_time": "2023-04-26T08:48:19.632Z"
   },
   {
    "duration": 5,
    "start_time": "2023-04-26T08:48:21.184Z"
   },
   {
    "duration": 7,
    "start_time": "2023-04-26T08:48:21.712Z"
   },
   {
    "duration": 6,
    "start_time": "2023-04-26T08:48:22.560Z"
   },
   {
    "duration": 12,
    "start_time": "2023-04-26T08:48:22.960Z"
   },
   {
    "duration": 241,
    "start_time": "2023-04-26T08:48:24.767Z"
   },
   {
    "duration": 97,
    "start_time": "2023-04-26T08:50:01.400Z"
   },
   {
    "duration": 4,
    "start_time": "2023-04-26T08:50:16.431Z"
   },
   {
    "duration": 277,
    "start_time": "2023-04-26T08:50:24.136Z"
   },
   {
    "duration": 3,
    "start_time": "2023-04-26T08:50:53.911Z"
   },
   {
    "duration": 208,
    "start_time": "2023-04-26T08:51:00.223Z"
   },
   {
    "duration": 200,
    "start_time": "2023-04-26T08:55:51.028Z"
   },
   {
    "duration": 227,
    "start_time": "2023-04-26T09:02:00.912Z"
   },
   {
    "duration": 226,
    "start_time": "2023-04-26T09:02:51.329Z"
   },
   {
    "duration": 195,
    "start_time": "2023-04-26T09:03:03.748Z"
   },
   {
    "duration": 219,
    "start_time": "2023-04-26T09:03:58.796Z"
   },
   {
    "duration": 278,
    "start_time": "2023-04-26T09:04:08.187Z"
   },
   {
    "duration": 296,
    "start_time": "2023-04-26T09:05:52.939Z"
   },
   {
    "duration": 251,
    "start_time": "2023-04-26T09:07:37.434Z"
   },
   {
    "duration": 324,
    "start_time": "2023-04-26T09:11:08.091Z"
   },
   {
    "duration": 383,
    "start_time": "2023-04-26T09:11:25.854Z"
   },
   {
    "duration": 8,
    "start_time": "2023-04-26T09:11:47.590Z"
   },
   {
    "duration": 296,
    "start_time": "2023-04-26T09:11:52.613Z"
   },
   {
    "duration": 11,
    "start_time": "2023-04-26T09:11:54.483Z"
   },
   {
    "duration": 137,
    "start_time": "2023-04-26T09:11:54.984Z"
   },
   {
    "duration": 140,
    "start_time": "2023-04-26T09:13:00.997Z"
   },
   {
    "duration": 178,
    "start_time": "2023-04-26T09:15:49.322Z"
   },
   {
    "duration": 158,
    "start_time": "2023-04-26T09:19:39.926Z"
   },
   {
    "duration": 176,
    "start_time": "2023-04-26T09:24:10.971Z"
   },
   {
    "duration": 5,
    "start_time": "2023-04-26T09:24:31.185Z"
   },
   {
    "duration": 9,
    "start_time": "2023-04-26T09:24:33.315Z"
   },
   {
    "duration": 192,
    "start_time": "2023-04-26T09:24:34.819Z"
   },
   {
    "duration": 230,
    "start_time": "2023-04-26T09:26:46.412Z"
   },
   {
    "duration": 156,
    "start_time": "2023-04-26T09:27:01.135Z"
   },
   {
    "duration": 174,
    "start_time": "2023-04-26T09:29:37.029Z"
   },
   {
    "duration": 305,
    "start_time": "2023-04-26T09:30:26.285Z"
   },
   {
    "duration": 14,
    "start_time": "2023-04-26T10:34:07.392Z"
   },
   {
    "duration": 10,
    "start_time": "2023-04-26T10:34:33.087Z"
   },
   {
    "duration": 9,
    "start_time": "2023-04-26T10:34:38.407Z"
   },
   {
    "duration": 9,
    "start_time": "2023-04-26T10:36:34.669Z"
   },
   {
    "duration": 9,
    "start_time": "2023-04-26T10:36:39.693Z"
   },
   {
    "duration": 318,
    "start_time": "2023-04-26T10:36:47.957Z"
   },
   {
    "duration": 4,
    "start_time": "2023-04-26T10:36:48.844Z"
   },
   {
    "duration": 12,
    "start_time": "2023-04-26T10:36:50.796Z"
   },
   {
    "duration": 27,
    "start_time": "2023-04-26T10:36:51.140Z"
   },
   {
    "duration": 7,
    "start_time": "2023-04-26T10:36:51.468Z"
   },
   {
    "duration": 6,
    "start_time": "2023-04-26T10:36:57.644Z"
   },
   {
    "duration": 11,
    "start_time": "2023-04-26T10:36:58.902Z"
   },
   {
    "duration": 143,
    "start_time": "2023-04-26T10:36:59.293Z"
   },
   {
    "duration": 5,
    "start_time": "2023-04-26T10:37:00.119Z"
   },
   {
    "duration": 21,
    "start_time": "2023-04-26T10:37:02.364Z"
   },
   {
    "duration": 1003,
    "start_time": "2023-04-26T10:41:03.184Z"
   },
   {
    "duration": 36,
    "start_time": "2023-04-26T10:41:05.522Z"
   },
   {
    "duration": 13,
    "start_time": "2023-04-26T10:41:07.088Z"
   },
   {
    "duration": 3,
    "start_time": "2023-04-26T10:41:07.722Z"
   },
   {
    "duration": 10,
    "start_time": "2023-04-26T10:41:08.517Z"
   },
   {
    "duration": 3,
    "start_time": "2023-04-26T10:41:08.697Z"
   },
   {
    "duration": 69,
    "start_time": "2023-04-26T10:41:10.228Z"
   },
   {
    "duration": 15,
    "start_time": "2023-04-26T10:41:10.385Z"
   },
   {
    "duration": 13,
    "start_time": "2023-04-26T10:41:10.553Z"
   },
   {
    "duration": 5,
    "start_time": "2023-04-26T10:41:10.729Z"
   },
   {
    "duration": 16,
    "start_time": "2023-04-26T10:41:11.057Z"
   },
   {
    "duration": 12,
    "start_time": "2023-04-26T10:41:11.560Z"
   },
   {
    "duration": 5,
    "start_time": "2023-04-26T10:41:13.088Z"
   },
   {
    "duration": 245,
    "start_time": "2023-04-26T10:41:13.272Z"
   },
   {
    "duration": 11,
    "start_time": "2023-04-26T10:41:13.518Z"
   },
   {
    "duration": 6,
    "start_time": "2023-04-26T10:41:13.801Z"
   },
   {
    "duration": 6,
    "start_time": "2023-04-26T10:41:13.985Z"
   },
   {
    "duration": 6,
    "start_time": "2023-04-26T10:41:14.130Z"
   },
   {
    "duration": 8,
    "start_time": "2023-04-26T10:41:14.325Z"
   },
   {
    "duration": 267,
    "start_time": "2023-04-26T10:41:14.823Z"
   },
   {
    "duration": 197,
    "start_time": "2023-04-26T10:41:15.480Z"
   },
   {
    "duration": 293,
    "start_time": "2023-04-26T10:41:16.001Z"
   },
   {
    "duration": 229,
    "start_time": "2023-04-26T10:41:16.529Z"
   },
   {
    "duration": 267,
    "start_time": "2023-04-26T10:41:17.021Z"
   },
   {
    "duration": 9,
    "start_time": "2023-04-26T10:41:17.688Z"
   },
   {
    "duration": 145,
    "start_time": "2023-04-26T10:41:17.873Z"
   },
   {
    "duration": 145,
    "start_time": "2023-04-26T10:41:18.257Z"
   },
   {
    "duration": 5,
    "start_time": "2023-04-26T10:41:18.968Z"
   },
   {
    "duration": 8,
    "start_time": "2023-04-26T10:41:19.896Z"
   },
   {
    "duration": 155,
    "start_time": "2023-04-26T10:41:20.280Z"
   },
   {
    "duration": 212,
    "start_time": "2023-04-26T10:41:20.648Z"
   },
   {
    "duration": 258,
    "start_time": "2023-04-26T10:41:21.009Z"
   },
   {
    "duration": 4,
    "start_time": "2023-04-26T10:41:21.561Z"
   },
   {
    "duration": 15,
    "start_time": "2023-04-26T10:41:22.624Z"
   },
   {
    "duration": 28,
    "start_time": "2023-04-26T10:41:22.801Z"
   },
   {
    "duration": 7,
    "start_time": "2023-04-26T10:41:22.976Z"
   },
   {
    "duration": 6,
    "start_time": "2023-04-26T10:41:23.328Z"
   },
   {
    "duration": 12,
    "start_time": "2023-04-26T10:41:23.864Z"
   },
   {
    "duration": 146,
    "start_time": "2023-04-26T10:41:24.055Z"
   },
   {
    "duration": 6,
    "start_time": "2023-04-26T10:41:24.400Z"
   },
   {
    "duration": 24,
    "start_time": "2023-04-26T10:41:24.944Z"
   },
   {
    "duration": 13,
    "start_time": "2023-04-26T10:41:26.120Z"
   },
   {
    "duration": 9,
    "start_time": "2023-04-26T10:41:27.032Z"
   },
   {
    "duration": 8,
    "start_time": "2023-04-26T10:41:28.160Z"
   },
   {
    "duration": 19,
    "start_time": "2023-04-26T10:41:28.601Z"
   },
   {
    "duration": 13,
    "start_time": "2023-04-26T10:41:29.537Z"
   },
   {
    "duration": 1001,
    "start_time": "2023-04-26T11:18:30.891Z"
   },
   {
    "duration": 36,
    "start_time": "2023-04-26T11:18:31.894Z"
   },
   {
    "duration": 11,
    "start_time": "2023-04-26T11:18:32.827Z"
   },
   {
    "duration": 3,
    "start_time": "2023-04-26T11:18:32.995Z"
   },
   {
    "duration": 10,
    "start_time": "2023-04-26T11:18:34.260Z"
   },
   {
    "duration": 3,
    "start_time": "2023-04-26T11:18:34.443Z"
   },
   {
    "duration": 71,
    "start_time": "2023-04-26T11:18:36.187Z"
   },
   {
    "duration": 17,
    "start_time": "2023-04-26T11:18:36.388Z"
   },
   {
    "duration": 13,
    "start_time": "2023-04-26T11:18:36.587Z"
   },
   {
    "duration": 6,
    "start_time": "2023-04-26T11:18:36.779Z"
   },
   {
    "duration": 15,
    "start_time": "2023-04-26T11:18:37.171Z"
   },
   {
    "duration": 12,
    "start_time": "2023-04-26T11:18:37.772Z"
   },
   {
    "duration": 5,
    "start_time": "2023-04-26T11:18:39.490Z"
   },
   {
    "duration": 236,
    "start_time": "2023-04-26T11:18:39.683Z"
   },
   {
    "duration": 11,
    "start_time": "2023-04-26T11:18:39.920Z"
   },
   {
    "duration": 6,
    "start_time": "2023-04-26T11:18:40.348Z"
   },
   {
    "duration": 7,
    "start_time": "2023-04-26T11:18:40.531Z"
   },
   {
    "duration": 6,
    "start_time": "2023-04-26T11:18:40.747Z"
   },
   {
    "duration": 8,
    "start_time": "2023-04-26T11:18:40.956Z"
   },
   {
    "duration": 278,
    "start_time": "2023-04-26T11:18:41.571Z"
   },
   {
    "duration": 198,
    "start_time": "2023-04-26T11:18:42.450Z"
   },
   {
    "duration": 288,
    "start_time": "2023-04-26T11:18:43.195Z"
   },
   {
    "duration": 234,
    "start_time": "2023-04-26T11:18:43.933Z"
   },
   {
    "duration": 294,
    "start_time": "2023-04-26T11:18:44.691Z"
   },
   {
    "duration": 11,
    "start_time": "2023-04-26T11:18:45.811Z"
   },
   {
    "duration": 188,
    "start_time": "2023-04-26T11:18:46.076Z"
   },
   {
    "duration": 169,
    "start_time": "2023-04-26T11:18:46.531Z"
   },
   {
    "duration": 4,
    "start_time": "2023-04-26T11:18:47.475Z"
   },
   {
    "duration": 8,
    "start_time": "2023-04-26T11:18:48.562Z"
   },
   {
    "duration": 154,
    "start_time": "2023-04-26T11:18:48.994Z"
   },
   {
    "duration": 235,
    "start_time": "2023-04-26T11:18:49.443Z"
   },
   {
    "duration": 258,
    "start_time": "2023-04-26T11:18:49.899Z"
   },
   {
    "duration": 4,
    "start_time": "2023-04-26T11:18:50.626Z"
   },
   {
    "duration": 13,
    "start_time": "2023-04-26T11:18:52.130Z"
   },
   {
    "duration": 28,
    "start_time": "2023-04-26T11:18:52.347Z"
   },
   {
    "duration": 6,
    "start_time": "2023-04-26T11:18:52.571Z"
   },
   {
    "duration": 2,
    "start_time": "2023-04-26T11:18:53.019Z"
   },
   {
    "duration": 8,
    "start_time": "2023-04-26T11:18:53.467Z"
   },
   {
    "duration": 127,
    "start_time": "2023-04-26T11:18:53.683Z"
   },
   {
    "duration": 6,
    "start_time": "2023-04-26T11:18:54.123Z"
   },
   {
    "duration": 24,
    "start_time": "2023-04-26T11:18:54.578Z"
   },
   {
    "duration": 10,
    "start_time": "2023-04-26T11:18:55.898Z"
   },
   {
    "duration": 10,
    "start_time": "2023-04-26T11:18:56.986Z"
   },
   {
    "duration": 8,
    "start_time": "2023-04-26T11:18:58.122Z"
   },
   {
    "duration": 24,
    "start_time": "2023-04-26T11:18:58.570Z"
   },
   {
    "duration": 15,
    "start_time": "2023-04-26T11:18:59.682Z"
   },
   {
    "duration": 1061,
    "start_time": "2023-04-26T11:44:23.432Z"
   },
   {
    "duration": 36,
    "start_time": "2023-04-26T11:44:24.495Z"
   },
   {
    "duration": 11,
    "start_time": "2023-04-26T11:44:25.120Z"
   },
   {
    "duration": 4,
    "start_time": "2023-04-26T11:44:25.313Z"
   },
   {
    "duration": 15,
    "start_time": "2023-04-26T11:44:26.057Z"
   },
   {
    "duration": 4,
    "start_time": "2023-04-26T11:44:26.217Z"
   },
   {
    "duration": 73,
    "start_time": "2023-04-26T11:44:27.680Z"
   },
   {
    "duration": 16,
    "start_time": "2023-04-26T11:44:27.833Z"
   },
   {
    "duration": 14,
    "start_time": "2023-04-26T11:44:27.993Z"
   },
   {
    "duration": 6,
    "start_time": "2023-04-26T11:44:28.152Z"
   },
   {
    "duration": 15,
    "start_time": "2023-04-26T11:44:28.696Z"
   },
   {
    "duration": 12,
    "start_time": "2023-04-26T11:44:29.745Z"
   },
   {
    "duration": 4,
    "start_time": "2023-04-26T11:44:31.328Z"
   },
   {
    "duration": 237,
    "start_time": "2023-04-26T11:44:31.472Z"
   },
   {
    "duration": 11,
    "start_time": "2023-04-26T11:44:31.710Z"
   },
   {
    "duration": 6,
    "start_time": "2023-04-26T11:44:32.072Z"
   },
   {
    "duration": 9,
    "start_time": "2023-04-26T11:44:32.272Z"
   },
   {
    "duration": 6,
    "start_time": "2023-04-26T11:44:32.440Z"
   },
   {
    "duration": 10,
    "start_time": "2023-04-26T11:44:32.600Z"
   },
   {
    "duration": 280,
    "start_time": "2023-04-26T11:44:33.223Z"
   },
   {
    "duration": 194,
    "start_time": "2023-04-26T11:44:33.895Z"
   },
   {
    "duration": 285,
    "start_time": "2023-04-26T11:44:34.400Z"
   },
   {
    "duration": 255,
    "start_time": "2023-04-26T11:44:34.912Z"
   },
   {
    "duration": 321,
    "start_time": "2023-04-26T11:44:35.480Z"
   },
   {
    "duration": 13,
    "start_time": "2023-04-26T11:44:36.216Z"
   },
   {
    "duration": 140,
    "start_time": "2023-04-26T11:44:36.392Z"
   },
   {
    "duration": 145,
    "start_time": "2023-04-26T11:44:36.736Z"
   },
   {
    "duration": 3,
    "start_time": "2023-04-26T11:44:37.496Z"
   },
   {
    "duration": 8,
    "start_time": "2023-04-26T11:44:38.425Z"
   },
   {
    "duration": 148,
    "start_time": "2023-04-26T11:44:38.815Z"
   },
   {
    "duration": 218,
    "start_time": "2023-04-26T11:44:39.200Z"
   },
   {
    "duration": 284,
    "start_time": "2023-04-26T11:44:39.577Z"
   },
   {
    "duration": 3,
    "start_time": "2023-04-26T11:44:40.168Z"
   },
   {
    "duration": 13,
    "start_time": "2023-04-26T11:44:41.424Z"
   },
   {
    "duration": 32,
    "start_time": "2023-04-26T11:44:41.611Z"
   },
   {
    "duration": 6,
    "start_time": "2023-04-26T11:44:41.777Z"
   },
   {
    "duration": 9,
    "start_time": "2023-04-26T11:44:42.128Z"
   },
   {
    "duration": 139,
    "start_time": "2023-04-26T11:44:42.321Z"
   },
   {
    "duration": 7,
    "start_time": "2023-04-26T11:44:42.816Z"
   },
   {
    "duration": 21,
    "start_time": "2023-04-26T11:44:43.408Z"
   },
   {
    "duration": 11,
    "start_time": "2023-04-26T11:44:44.783Z"
   },
   {
    "duration": 9,
    "start_time": "2023-04-26T11:44:45.751Z"
   },
   {
    "duration": 8,
    "start_time": "2023-04-26T11:44:46.680Z"
   },
   {
    "duration": 23,
    "start_time": "2023-04-26T11:44:47.263Z"
   },
   {
    "duration": 12,
    "start_time": "2023-04-26T11:44:48.456Z"
   },
   {
    "duration": 1200,
    "start_time": "2023-04-26T15:39:34.782Z"
   },
   {
    "duration": 75,
    "start_time": "2023-04-26T15:39:37.721Z"
   },
   {
    "duration": 13,
    "start_time": "2023-04-26T15:39:38.697Z"
   },
   {
    "duration": 4,
    "start_time": "2023-04-26T15:39:39.042Z"
   },
   {
    "duration": 14,
    "start_time": "2023-04-26T15:39:40.002Z"
   },
   {
    "duration": 4,
    "start_time": "2023-04-26T15:39:40.234Z"
   },
   {
    "duration": 159,
    "start_time": "2023-04-26T15:39:42.122Z"
   },
   {
    "duration": 17,
    "start_time": "2023-04-26T15:39:42.305Z"
   },
   {
    "duration": 13,
    "start_time": "2023-04-26T15:39:42.498Z"
   },
   {
    "duration": 6,
    "start_time": "2023-04-26T15:39:42.690Z"
   },
   {
    "duration": 14,
    "start_time": "2023-04-26T15:39:43.130Z"
   },
   {
    "duration": 12,
    "start_time": "2023-04-26T15:39:43.761Z"
   },
   {
    "duration": 5,
    "start_time": "2023-04-26T15:39:44.962Z"
   },
   {
    "duration": 280,
    "start_time": "2023-04-26T15:39:45.155Z"
   },
   {
    "duration": 15,
    "start_time": "2023-04-26T15:39:45.437Z"
   },
   {
    "duration": 6,
    "start_time": "2023-04-26T15:39:45.706Z"
   },
   {
    "duration": 8,
    "start_time": "2023-04-26T15:39:45.882Z"
   },
   {
    "duration": 6,
    "start_time": "2023-04-26T15:39:46.066Z"
   },
   {
    "duration": 12,
    "start_time": "2023-04-26T15:39:46.241Z"
   },
   {
    "duration": 322,
    "start_time": "2023-04-26T15:39:46.737Z"
   },
   {
    "duration": 230,
    "start_time": "2023-04-26T15:39:47.594Z"
   },
   {
    "duration": 349,
    "start_time": "2023-04-26T15:39:48.146Z"
   },
   {
    "duration": 245,
    "start_time": "2023-04-26T15:39:48.698Z"
   },
   {
    "duration": 333,
    "start_time": "2023-04-26T15:39:49.225Z"
   },
   {
    "duration": 10,
    "start_time": "2023-04-26T15:39:49.953Z"
   },
   {
    "duration": 159,
    "start_time": "2023-04-26T15:39:50.148Z"
   },
   {
    "duration": 154,
    "start_time": "2023-04-26T15:39:50.498Z"
   },
   {
    "duration": 4,
    "start_time": "2023-04-26T15:39:51.226Z"
   },
   {
    "duration": 8,
    "start_time": "2023-04-26T15:39:52.173Z"
   },
   {
    "duration": 160,
    "start_time": "2023-04-26T15:39:52.529Z"
   },
   {
    "duration": 245,
    "start_time": "2023-04-26T15:39:52.946Z"
   },
   {
    "duration": 310,
    "start_time": "2023-04-26T15:39:53.314Z"
   },
   {
    "duration": 4,
    "start_time": "2023-04-26T15:39:53.881Z"
   },
   {
    "duration": 14,
    "start_time": "2023-04-26T15:39:55.338Z"
   },
   {
    "duration": 27,
    "start_time": "2023-04-26T15:39:55.530Z"
   },
   {
    "duration": 6,
    "start_time": "2023-04-26T15:39:55.754Z"
   },
   {
    "duration": 8,
    "start_time": "2023-04-26T15:39:56.185Z"
   },
   {
    "duration": 157,
    "start_time": "2023-04-26T15:39:56.417Z"
   },
   {
    "duration": 6,
    "start_time": "2023-04-26T15:39:56.857Z"
   },
   {
    "duration": 24,
    "start_time": "2023-04-26T15:39:57.505Z"
   },
   {
    "duration": 11,
    "start_time": "2023-04-26T15:39:59.073Z"
   },
   {
    "duration": 9,
    "start_time": "2023-04-26T15:40:00.517Z"
   },
   {
    "duration": 8,
    "start_time": "2023-04-26T15:40:03.338Z"
   },
   {
    "duration": 24,
    "start_time": "2023-04-26T15:40:04.457Z"
   },
   {
    "duration": 14,
    "start_time": "2023-04-26T15:40:06.025Z"
   },
   {
    "duration": 1086,
    "start_time": "2023-04-27T15:22:14.773Z"
   },
   {
    "duration": 37,
    "start_time": "2023-04-27T15:22:15.861Z"
   },
   {
    "duration": 11,
    "start_time": "2023-04-27T15:22:15.900Z"
   },
   {
    "duration": 3,
    "start_time": "2023-04-27T15:22:15.913Z"
   },
   {
    "duration": 22,
    "start_time": "2023-04-27T15:22:15.917Z"
   },
   {
    "duration": 8,
    "start_time": "2023-04-27T15:22:15.941Z"
   },
   {
    "duration": 64,
    "start_time": "2023-04-27T15:22:15.950Z"
   },
   {
    "duration": 15,
    "start_time": "2023-04-27T15:22:16.016Z"
   },
   {
    "duration": 32,
    "start_time": "2023-04-27T15:22:16.032Z"
   },
   {
    "duration": 9,
    "start_time": "2023-04-27T15:22:16.068Z"
   },
   {
    "duration": 15,
    "start_time": "2023-04-27T15:22:16.078Z"
   },
   {
    "duration": 22,
    "start_time": "2023-04-27T15:22:16.094Z"
   },
   {
    "duration": 5,
    "start_time": "2023-04-27T15:22:16.118Z"
   },
   {
    "duration": 263,
    "start_time": "2023-04-27T15:22:16.124Z"
   },
   {
    "duration": 12,
    "start_time": "2023-04-27T15:22:16.388Z"
   },
   {
    "duration": 10,
    "start_time": "2023-04-27T15:22:16.401Z"
   },
   {
    "duration": 16,
    "start_time": "2023-04-27T15:22:16.413Z"
   },
   {
    "duration": 6,
    "start_time": "2023-04-27T15:22:16.435Z"
   },
   {
    "duration": 10,
    "start_time": "2023-04-27T15:22:16.443Z"
   },
   {
    "duration": 317,
    "start_time": "2023-04-27T15:22:16.454Z"
   },
   {
    "duration": 222,
    "start_time": "2023-04-27T15:22:16.772Z"
   },
   {
    "duration": 336,
    "start_time": "2023-04-27T15:22:16.996Z"
   },
   {
    "duration": 243,
    "start_time": "2023-04-27T15:22:17.334Z"
   },
   {
    "duration": 301,
    "start_time": "2023-04-27T15:22:17.579Z"
   },
   {
    "duration": 10,
    "start_time": "2023-04-27T15:22:17.882Z"
   },
   {
    "duration": 159,
    "start_time": "2023-04-27T15:22:17.894Z"
   },
   {
    "duration": 167,
    "start_time": "2023-04-27T15:22:18.055Z"
   },
   {
    "duration": 11,
    "start_time": "2023-04-27T15:22:18.225Z"
   },
   {
    "duration": 13,
    "start_time": "2023-04-27T15:22:18.237Z"
   },
   {
    "duration": 156,
    "start_time": "2023-04-27T15:22:18.252Z"
   },
   {
    "duration": 228,
    "start_time": "2023-04-27T15:22:18.410Z"
   },
   {
    "duration": 284,
    "start_time": "2023-04-27T15:22:18.640Z"
   },
   {
    "duration": 10,
    "start_time": "2023-04-27T15:22:18.926Z"
   },
   {
    "duration": 16,
    "start_time": "2023-04-27T15:22:18.938Z"
   },
   {
    "duration": 26,
    "start_time": "2023-04-27T15:22:18.955Z"
   },
   {
    "duration": 6,
    "start_time": "2023-04-27T15:22:18.982Z"
   },
   {
    "duration": 10,
    "start_time": "2023-04-27T15:22:18.989Z"
   },
   {
    "duration": 148,
    "start_time": "2023-04-27T15:22:19.000Z"
   },
   {
    "duration": 6,
    "start_time": "2023-04-27T15:22:19.149Z"
   },
   {
    "duration": 23,
    "start_time": "2023-04-27T15:22:19.156Z"
   },
   {
    "duration": 10,
    "start_time": "2023-04-27T15:22:19.181Z"
   },
   {
    "duration": 8,
    "start_time": "2023-04-27T15:22:19.192Z"
   },
   {
    "duration": 32,
    "start_time": "2023-04-27T15:22:19.202Z"
   },
   {
    "duration": 23,
    "start_time": "2023-04-27T15:22:19.236Z"
   },
   {
    "duration": 14,
    "start_time": "2023-04-27T15:22:19.260Z"
   },
   {
    "duration": 1148,
    "start_time": "2023-04-29T17:30:31.323Z"
   },
   {
    "duration": 82,
    "start_time": "2023-04-29T17:30:33.850Z"
   },
   {
    "duration": 12,
    "start_time": "2023-04-29T17:30:35.026Z"
   },
   {
    "duration": 5,
    "start_time": "2023-04-29T17:30:35.281Z"
   },
   {
    "duration": 11,
    "start_time": "2023-04-29T17:30:36.394Z"
   },
   {
    "duration": 4,
    "start_time": "2023-04-29T17:30:36.594Z"
   },
   {
    "duration": 148,
    "start_time": "2023-04-29T17:30:38.834Z"
   },
   {
    "duration": 17,
    "start_time": "2023-04-29T17:30:39.058Z"
   },
   {
    "duration": 16,
    "start_time": "2023-04-29T17:30:39.298Z"
   },
   {
    "duration": 9,
    "start_time": "2023-04-29T17:30:39.754Z"
   },
   {
    "duration": 19,
    "start_time": "2023-04-29T17:30:40.417Z"
   },
   {
    "duration": 14,
    "start_time": "2023-04-29T17:30:41.369Z"
   },
   {
    "duration": 6,
    "start_time": "2023-04-29T17:30:43.665Z"
   },
   {
    "duration": 266,
    "start_time": "2023-04-29T17:30:44.114Z"
   },
   {
    "duration": 12,
    "start_time": "2023-04-29T17:30:44.506Z"
   },
   {
    "duration": 7,
    "start_time": "2023-04-29T17:30:45.290Z"
   },
   {
    "duration": 8,
    "start_time": "2023-04-29T17:30:45.562Z"
   },
   {
    "duration": 7,
    "start_time": "2023-04-29T17:30:45.769Z"
   },
   {
    "duration": 8,
    "start_time": "2023-04-29T17:30:46.162Z"
   },
   {
    "duration": 338,
    "start_time": "2023-04-29T17:30:47.161Z"
   },
   {
    "duration": 249,
    "start_time": "2023-04-29T17:30:48.617Z"
   },
   {
    "duration": 347,
    "start_time": "2023-04-29T17:30:49.866Z"
   },
   {
    "duration": 295,
    "start_time": "2023-04-29T17:30:51.418Z"
   },
   {
    "duration": 325,
    "start_time": "2023-04-29T17:30:52.857Z"
   },
   {
    "duration": 10,
    "start_time": "2023-04-29T17:30:54.610Z"
   },
   {
    "duration": 178,
    "start_time": "2023-04-29T17:30:55.249Z"
   },
   {
    "duration": 182,
    "start_time": "2023-04-29T17:30:56.329Z"
   },
   {
    "duration": 4,
    "start_time": "2023-04-29T17:30:58.185Z"
   },
   {
    "duration": 9,
    "start_time": "2023-04-29T17:30:59.745Z"
   },
   {
    "duration": 179,
    "start_time": "2023-04-29T17:31:00.425Z"
   },
   {
    "duration": 278,
    "start_time": "2023-04-29T17:31:00.825Z"
   },
   {
    "duration": 344,
    "start_time": "2023-04-29T17:31:01.978Z"
   },
   {
    "duration": 5,
    "start_time": "2023-04-29T17:31:02.993Z"
   },
   {
    "duration": 14,
    "start_time": "2023-04-29T17:31:05.441Z"
   },
   {
    "duration": 31,
    "start_time": "2023-04-29T17:31:06.138Z"
   },
   {
    "duration": 7,
    "start_time": "2023-04-29T17:31:06.482Z"
   },
   {
    "duration": 12,
    "start_time": "2023-04-29T17:31:07.993Z"
   },
   {
    "duration": 146,
    "start_time": "2023-04-29T17:31:08.595Z"
   },
   {
    "duration": 6,
    "start_time": "2023-04-29T17:31:09.521Z"
   },
   {
    "duration": 20,
    "start_time": "2023-04-29T17:31:10.809Z"
   },
   {
    "duration": 11,
    "start_time": "2023-04-29T17:31:13.057Z"
   },
   {
    "duration": 9,
    "start_time": "2023-04-29T17:31:14.241Z"
   },
   {
    "duration": 11,
    "start_time": "2023-04-29T17:31:16.793Z"
   },
   {
    "duration": 21,
    "start_time": "2023-04-29T17:31:17.769Z"
   },
   {
    "duration": 16,
    "start_time": "2023-04-29T17:31:19.233Z"
   }
  ],
  "kernelspec": {
   "display_name": "Python 3 (ipykernel)",
   "language": "python",
   "name": "python3"
  },
  "language_info": {
   "codemirror_mode": {
    "name": "ipython",
    "version": 3
   },
   "file_extension": ".py",
   "mimetype": "text/x-python",
   "name": "python",
   "nbconvert_exporter": "python",
   "pygments_lexer": "ipython3",
   "version": "3.10.9"
  },
  "toc": {
   "base_numbering": 1,
   "nav_menu": {},
   "number_sections": true,
   "sideBar": true,
   "skip_h1_title": true,
   "title_cell": "Table of Contents",
   "title_sidebar": "Contents",
   "toc_cell": false,
   "toc_position": {},
   "toc_section_display": true,
   "toc_window_display": true
  }
 },
 "nbformat": 4,
 "nbformat_minor": 2
}
